{
  "cells": [
    {
      "cell_type": "code",
      "execution_count": 1,
      "metadata": {
        "colab": {
          "base_uri": "https://localhost:8080/"
        },
        "id": "BnFOAusv_z50",
        "outputId": "6b7004f5-c08d-4bc3-dbd9-f44fd7932370"
      },
      "outputs": [
        {
          "name": "stdout",
          "output_type": "stream",
          "text": [
            "Mounted at /content/drive\n"
          ]
        }
      ],
      "source": [
        "from google.colab import drive\n",
        "drive.mount('/content/drive')"
      ]
    },
    {
      "cell_type": "code",
      "execution_count": 2,
      "metadata": {
        "id": "JjbOvZjs_09z"
      },
      "outputs": [],
      "source": [
        "root_dir = \"/content/drive/MyDrive/Scene Graph Generator/\"\n",
        "import os\n",
        "os.chdir(root_dir + 'RelTR')"
      ]
    },
    {
      "cell_type": "code",
      "execution_count": 3,
      "metadata": {
        "colab": {
          "base_uri": "https://localhost:8080/"
        },
        "id": "l6fI8SxWT0aL",
        "outputId": "3f7e020a-ae8e-4590-ec6a-05b29c11763c"
      },
      "outputs": [
        {
          "name": "stdout",
          "output_type": "stream",
          "text": [
            "Python 3.8.10\n"
          ]
        }
      ],
      "source": [
        "!python -V"
      ]
    },
    {
      "cell_type": "code",
      "execution_count": 4,
      "metadata": {
        "colab": {
          "base_uri": "https://localhost:8080/"
        },
        "id": "NKRALjlpT_29",
        "outputId": "f23a4320-14c1-46b8-cca6-7e24b4555248"
      },
      "outputs": [
        {
          "name": "stdout",
          "output_type": "stream",
          "text": [
            "\r0% [Working]\r            \rGet:1 https://cloud.r-project.org/bin/linux/ubuntu focal-cran40/ InRelease [3,622 B]\n",
            "\r0% [Connecting to archive.ubuntu.com (185.125.190.36)] [Connecting to security.\r0% [Connecting to archive.ubuntu.com (185.125.190.36)] [Connecting to security.\r                                                                               \rIgn:2 https://developer.download.nvidia.com/compute/machine-learning/repos/ubuntu2004/x86_64  InRelease\n",
            "Get:3 https://developer.download.nvidia.com/compute/cuda/repos/ubuntu2004/x86_64  InRelease [1,581 B]\n",
            "Hit:4 https://developer.download.nvidia.com/compute/machine-learning/repos/ubuntu2004/x86_64  Release\n",
            "Get:5 http://security.ubuntu.com/ubuntu focal-security InRelease [114 kB]\n",
            "Hit:6 http://archive.ubuntu.com/ubuntu focal InRelease\n",
            "Hit:7 http://ppa.launchpad.net/c2d4u.team/c2d4u4.0+/ubuntu focal InRelease\n",
            "Get:8 https://developer.download.nvidia.com/compute/cuda/repos/ubuntu2004/x86_64  Packages [870 kB]\n",
            "Get:10 http://archive.ubuntu.com/ubuntu focal-updates InRelease [114 kB]\n",
            "Hit:11 http://ppa.launchpad.net/cran/libgit2/ubuntu focal InRelease\n",
            "Hit:12 http://ppa.launchpad.net/deadsnakes/ppa/ubuntu focal InRelease\n",
            "Get:13 http://security.ubuntu.com/ubuntu focal-security/universe amd64 Packages [991 kB]\n",
            "Get:14 http://archive.ubuntu.com/ubuntu focal-backports InRelease [108 kB]\n",
            "Hit:15 http://ppa.launchpad.net/graphics-drivers/ppa/ubuntu focal InRelease\n",
            "Get:16 http://archive.ubuntu.com/ubuntu focal-updates/universe amd64 Packages [1,291 kB]\n",
            "Get:17 http://archive.ubuntu.com/ubuntu focal-updates/main amd64 Packages [2,921 kB]\n",
            "Get:18 http://archive.ubuntu.com/ubuntu focal-backports/universe amd64 Packages [28.6 kB]\n",
            "Fetched 6,443 kB in 2s (3,088 kB/s)\n",
            "Reading package lists... Done\n",
            "Reading package lists... Done\n",
            "Building dependency tree       \n",
            "Reading state information... Done\n",
            "The following package was automatically installed and is no longer required:\n",
            "  libnvidia-common-510\n",
            "Use 'sudo apt autoremove' to remove it.\n",
            "The following additional packages will be installed:\n",
            "  libpython3.6-minimal libpython3.6-stdlib python3.6-minimal\n",
            "Suggested packages:\n",
            "  python3.6-venv binfmt-support\n",
            "The following NEW packages will be installed:\n",
            "  libpython3.6-minimal libpython3.6-stdlib python3.6 python3.6-minimal\n",
            "0 upgraded, 4 newly installed, 0 to remove and 27 not upgraded.\n",
            "Need to get 4,294 kB of archives.\n",
            "After this operation, 22.1 MB of additional disk space will be used.\n",
            "Get:1 http://ppa.launchpad.net/deadsnakes/ppa/ubuntu focal/main amd64 libpython3.6-minimal amd64 3.6.15-1+focal3 [569 kB]\n",
            "Get:2 http://ppa.launchpad.net/deadsnakes/ppa/ubuntu focal/main amd64 python3.6-minimal amd64 3.6.15-1+focal3 [1,718 kB]\n",
            "Get:3 http://ppa.launchpad.net/deadsnakes/ppa/ubuntu focal/main amd64 libpython3.6-stdlib amd64 3.6.15-1+focal3 [1,758 kB]\n",
            "Get:4 http://ppa.launchpad.net/deadsnakes/ppa/ubuntu focal/main amd64 python3.6 amd64 3.6.15-1+focal3 [248 kB]\n",
            "Fetched 4,294 kB in 4s (1,024 kB/s)\n",
            "debconf: unable to initialize frontend: Dialog\n",
            "debconf: (No usable dialog-like program is installed, so the dialog based frontend cannot be used. at /usr/share/perl5/Debconf/FrontEnd/Dialog.pm line 76, <> line 4.)\n",
            "debconf: falling back to frontend: Readline\n",
            "debconf: unable to initialize frontend: Readline\n",
            "debconf: (This frontend requires a controlling tty.)\n",
            "debconf: falling back to frontend: Teletype\n",
            "dpkg-preconfigure: unable to re-open stdin: \n",
            "Selecting previously unselected package libpython3.6-minimal:amd64.\n",
            "(Reading database ... 129496 files and directories currently installed.)\n",
            "Preparing to unpack .../libpython3.6-minimal_3.6.15-1+focal3_amd64.deb ...\n",
            "Unpacking libpython3.6-minimal:amd64 (3.6.15-1+focal3) ...\n",
            "Selecting previously unselected package python3.6-minimal.\n",
            "Preparing to unpack .../python3.6-minimal_3.6.15-1+focal3_amd64.deb ...\n",
            "Unpacking python3.6-minimal (3.6.15-1+focal3) ...\n",
            "Selecting previously unselected package libpython3.6-stdlib:amd64.\n",
            "Preparing to unpack .../libpython3.6-stdlib_3.6.15-1+focal3_amd64.deb ...\n",
            "Unpacking libpython3.6-stdlib:amd64 (3.6.15-1+focal3) ...\n",
            "Selecting previously unselected package python3.6.\n",
            "Preparing to unpack .../python3.6_3.6.15-1+focal3_amd64.deb ...\n",
            "Unpacking python3.6 (3.6.15-1+focal3) ...\n",
            "Setting up libpython3.6-minimal:amd64 (3.6.15-1+focal3) ...\n",
            "Setting up python3.6-minimal (3.6.15-1+focal3) ...\n",
            "Setting up libpython3.6-stdlib:amd64 (3.6.15-1+focal3) ...\n",
            "Setting up python3.6 (3.6.15-1+focal3) ...\n",
            "Processing triggers for man-db (2.9.1-1) ...\n",
            "Processing triggers for mime-support (3.64ubuntu1) ...\n",
            "There are 2 choices for the alternative python3 (providing /usr/bin/python3).\n",
            "\n",
            "  Selection    Path                Priority   Status\n",
            "------------------------------------------------------------\n",
            "* 0            /usr/bin/python3.8   1         auto mode\n",
            "  1            /usr/bin/python3.6   1         manual mode\n",
            "  2            /usr/bin/python3.8   1         manual mode\n",
            "\n",
            "Press <enter> to keep the current choice[*], or type selection number: 1\n",
            "update-alternatives: using /usr/bin/python3.6 to provide /usr/bin/python3 (python3) in manual mode\n"
          ]
        }
      ],
      "source": [
        "!sudo apt-get update -y\n",
        "!sudo apt-get install python3.6\n",
        "# change alternatives\n",
        "!sudo update-alternatives --install /usr/bin/python3 python3 /usr/bin/python3.6 1\n",
        "# select python version\n",
        "!sudo update-alternatives --config python3"
      ]
    },
    {
      "cell_type": "code",
      "execution_count": 5,
      "metadata": {
        "colab": {
          "base_uri": "https://localhost:8080/"
        },
        "id": "PDRilwbWUgkl",
        "outputId": "da3d4712-05b5-4f03-bd21-6cd5a8a5d72d"
      },
      "outputs": [
        {
          "name": "stdout",
          "output_type": "stream",
          "text": [
            "Python 3.6.15\n"
          ]
        }
      ],
      "source": [
        "!python -V"
      ]
    },
    {
      "cell_type": "code",
      "execution_count": 6,
      "metadata": {
        "colab": {
          "base_uri": "https://localhost:8080/"
        },
        "id": "fCt01w8MUjVK",
        "outputId": "932b5cdf-06fc-441a-e157-461c7a735d43"
      },
      "outputs": [
        {
          "name": "stdout",
          "output_type": "stream",
          "text": [
            "Reading package lists... Done\n",
            "Building dependency tree       \n",
            "Reading state information... Done\n",
            "The following package was automatically installed and is no longer required:\n",
            "  libnvidia-common-510\n",
            "Use 'sudo apt autoremove' to remove it.\n",
            "The following additional packages will be installed:\n",
            "  python-pip-whl python3-setuptools python3-wheel\n",
            "Suggested packages:\n",
            "  python-setuptools-doc\n",
            "The following NEW packages will be installed:\n",
            "  python-pip-whl python3-pip python3-setuptools python3-wheel\n",
            "0 upgraded, 4 newly installed, 0 to remove and 27 not upgraded.\n",
            "Need to get 2,389 kB of archives.\n",
            "After this operation, 4,933 kB of additional disk space will be used.\n",
            "Get:1 http://archive.ubuntu.com/ubuntu focal-updates/universe amd64 python-pip-whl all 20.0.2-5ubuntu1.7 [1,805 kB]\n",
            "Get:2 http://archive.ubuntu.com/ubuntu focal-updates/main amd64 python3-setuptools all 45.2.0-1ubuntu0.1 [330 kB]\n",
            "Get:3 http://archive.ubuntu.com/ubuntu focal-updates/universe amd64 python3-wheel all 0.34.2-1ubuntu0.1 [23.9 kB]\n",
            "Get:4 http://archive.ubuntu.com/ubuntu focal-updates/universe amd64 python3-pip all 20.0.2-5ubuntu1.7 [230 kB]\n",
            "Fetched 2,389 kB in 1s (3,322 kB/s)\n",
            "debconf: unable to initialize frontend: Dialog\n",
            "debconf: (No usable dialog-like program is installed, so the dialog based frontend cannot be used. at /usr/share/perl5/Debconf/FrontEnd/Dialog.pm line 76, <> line 4.)\n",
            "debconf: falling back to frontend: Readline\n",
            "debconf: unable to initialize frontend: Readline\n",
            "debconf: (This frontend requires a controlling tty.)\n",
            "debconf: falling back to frontend: Teletype\n",
            "dpkg-preconfigure: unable to re-open stdin: \n",
            "Selecting previously unselected package python-pip-whl.\n",
            "(Reading database ... 130107 files and directories currently installed.)\n",
            "Preparing to unpack .../python-pip-whl_20.0.2-5ubuntu1.7_all.deb ...\n",
            "Unpacking python-pip-whl (20.0.2-5ubuntu1.7) ...\n",
            "Selecting previously unselected package python3-setuptools.\n",
            "Preparing to unpack .../python3-setuptools_45.2.0-1ubuntu0.1_all.deb ...\n",
            "Unpacking python3-setuptools (45.2.0-1ubuntu0.1) ...\n",
            "Selecting previously unselected package python3-wheel.\n",
            "Preparing to unpack .../python3-wheel_0.34.2-1ubuntu0.1_all.deb ...\n",
            "Unpacking python3-wheel (0.34.2-1ubuntu0.1) ...\n",
            "Selecting previously unselected package python3-pip.\n",
            "Preparing to unpack .../python3-pip_20.0.2-5ubuntu1.7_all.deb ...\n",
            "Unpacking python3-pip (20.0.2-5ubuntu1.7) ...\n",
            "Setting up python3-setuptools (45.2.0-1ubuntu0.1) ...\n",
            "Setting up python3-wheel (0.34.2-1ubuntu0.1) ...\n",
            "Setting up python-pip-whl (20.0.2-5ubuntu1.7) ...\n",
            "Setting up python3-pip (20.0.2-5ubuntu1.7) ...\n",
            "Processing triggers for man-db (2.9.1-1) ...\n",
            "Reading package lists... Done\n",
            "Building dependency tree       \n",
            "Reading state information... Done\n",
            "The following package was automatically installed and is no longer required:\n",
            "  libnvidia-common-510\n",
            "Use 'sudo apt autoremove' to remove it.\n",
            "The following additional packages will be installed:\n",
            "  python3.6-lib2to3\n",
            "The following NEW packages will be installed:\n",
            "  python3.6-distutils python3.6-lib2to3\n",
            "0 upgraded, 2 newly installed, 0 to remove and 27 not upgraded.\n",
            "Need to get 308 kB of archives.\n",
            "After this operation, 1,232 kB of additional disk space will be used.\n",
            "Get:1 http://ppa.launchpad.net/deadsnakes/ppa/ubuntu focal/main amd64 python3.6-lib2to3 all 3.6.15-1+focal3 [122 kB]\n",
            "Get:2 http://ppa.launchpad.net/deadsnakes/ppa/ubuntu focal/main amd64 python3.6-distutils all 3.6.15-1+focal3 [187 kB]\n",
            "Fetched 308 kB in 1s (228 kB/s)\n",
            "debconf: unable to initialize frontend: Dialog\n",
            "debconf: (No usable dialog-like program is installed, so the dialog based frontend cannot be used. at /usr/share/perl5/Debconf/FrontEnd/Dialog.pm line 76, <> line 2.)\n",
            "debconf: falling back to frontend: Readline\n",
            "debconf: unable to initialize frontend: Readline\n",
            "debconf: (This frontend requires a controlling tty.)\n",
            "debconf: falling back to frontend: Teletype\n",
            "dpkg-preconfigure: unable to re-open stdin: \n",
            "Selecting previously unselected package python3.6-lib2to3.\n",
            "(Reading database ... 130471 files and directories currently installed.)\n",
            "Preparing to unpack .../python3.6-lib2to3_3.6.15-1+focal3_all.deb ...\n",
            "Unpacking python3.6-lib2to3 (3.6.15-1+focal3) ...\n",
            "Selecting previously unselected package python3.6-distutils.\n",
            "Preparing to unpack .../python3.6-distutils_3.6.15-1+focal3_all.deb ...\n",
            "Unpacking python3.6-distutils (3.6.15-1+focal3) ...\n",
            "Setting up python3.6-lib2to3 (3.6.15-1+focal3) ...\n",
            "Setting up python3.6-distutils (3.6.15-1+focal3) ...\n"
          ]
        }
      ],
      "source": [
        "!sudo apt-get install python3-pip\n",
        "!sudo apt-get install python3.6-distutils "
      ]
    },
    {
      "cell_type": "code",
      "execution_count": null,
      "metadata": {
        "id": "CxDFngLlpRhP"
      },
      "outputs": [],
      "source": [
        "# !pip install -q condacolab\n",
        "# import condacolab\n",
        "# condacolab.install()\n",
        "\n",
        "\n"
      ]
    },
    {
      "cell_type": "code",
      "execution_count": 7,
      "metadata": {
        "colab": {
          "base_uri": "https://localhost:8080/"
        },
        "id": "wRJaxoKFKXl3",
        "outputId": "60e6863c-001e-4de7-b571-fca031cb5252"
      },
      "outputs": [
        {
          "name": "stdout",
          "output_type": "stream",
          "text": [
            "--2023-02-03 03:24:59--  https://repo.anaconda.com/miniconda/Miniconda3-4.5.4-Linux-x86_64.sh\n",
            "Resolving repo.anaconda.com (repo.anaconda.com)... 104.16.130.3, 104.16.131.3, 2606:4700::6810:8303, ...\n",
            "Connecting to repo.anaconda.com (repo.anaconda.com)|104.16.130.3|:443... connected.\n",
            "HTTP request sent, awaiting response... 416 Requested Range Not Satisfiable\n",
            "\n",
            "    The file is already fully retrieved; nothing to do.\n",
            "\n",
            "PREFIX=/usr/local\n",
            "installing: python-3.6.5-hc3d631a_2 ...\n",
            "Python 3.6.5 :: Anaconda, Inc.\n",
            "installing: ca-certificates-2018.03.07-0 ...\n",
            "installing: conda-env-2.6.0-h36134e3_1 ...\n",
            "installing: libgcc-ng-7.2.0-hdf63c60_3 ...\n",
            "installing: libstdcxx-ng-7.2.0-hdf63c60_3 ...\n",
            "installing: libffi-3.2.1-hd88cf55_4 ...\n",
            "installing: ncurses-6.1-hf484d3e_0 ...\n",
            "installing: openssl-1.0.2o-h20670df_0 ...\n",
            "installing: tk-8.6.7-hc745277_3 ...\n",
            "installing: xz-5.2.4-h14c3975_4 ...\n",
            "installing: yaml-0.1.7-had09818_2 ...\n",
            "installing: zlib-1.2.11-ha838bed_2 ...\n",
            "installing: libedit-3.1.20170329-h6b74fdf_2 ...\n",
            "installing: readline-7.0-ha6073c6_4 ...\n",
            "installing: sqlite-3.23.1-he433501_0 ...\n",
            "installing: asn1crypto-0.24.0-py36_0 ...\n",
            "installing: certifi-2018.4.16-py36_0 ...\n",
            "installing: chardet-3.0.4-py36h0f667ec_1 ...\n",
            "installing: idna-2.6-py36h82fb2a8_1 ...\n",
            "installing: pycosat-0.6.3-py36h0a5515d_0 ...\n",
            "installing: pycparser-2.18-py36hf9f622e_1 ...\n",
            "installing: pysocks-1.6.8-py36_0 ...\n",
            "installing: ruamel_yaml-0.15.37-py36h14c3975_2 ...\n",
            "installing: six-1.11.0-py36h372c433_1 ...\n",
            "installing: cffi-1.11.5-py36h9745a5d_0 ...\n",
            "installing: setuptools-39.2.0-py36_0 ...\n",
            "installing: cryptography-2.2.2-py36h14c3975_0 ...\n",
            "installing: wheel-0.31.1-py36_0 ...\n",
            "installing: pip-10.0.1-py36_0 ...\n",
            "installing: pyopenssl-18.0.0-py36_0 ...\n",
            "installing: urllib3-1.22-py36hbe7ace6_0 ...\n",
            "installing: requests-2.18.4-py36he2e5f8d_1 ...\n",
            "installing: conda-4.5.4-py36_0 ...\n",
            "installation finished.\n",
            "WARNING:\n",
            "    You currently have a PYTHONPATH environment variable set. This may cause\n",
            "    unexpected behavior when running the Python interpreter in Miniconda3.\n",
            "    For best results, please verify that your PYTHONPATH only points to\n",
            "    directories of packages that are compatible with the Python interpreter\n",
            "    in Miniconda3: /usr/local\n",
            "Solving environment: ...working... done\n",
            "\n",
            "## Package Plan ##\n",
            "\n",
            "  environment location: /usr/local\n",
            "\n",
            "  added / updated specs: \n",
            "    - python=3.6\n",
            "\n",
            "\n",
            "The following packages will be downloaded:\n",
            "\n",
            "    package                    |            build\n",
            "    ---------------------------|-----------------\n",
            "    readline-8.1.2             |       h7f8727e_1         423 KB\n",
            "    setuptools-58.0.4          |   py36h06a4308_0         979 KB\n",
            "    libffi-3.3                 |       he6710b0_2          54 KB\n",
            "    sqlite-3.38.5              |       hc218d9a_0         1.5 MB\n",
            "    ca-certificates-2023.01.10 |       h06a4308_0         127 KB\n",
            "    pip-21.2.2                 |   py36h06a4308_0         2.1 MB\n",
            "    certifi-2021.5.30          |   py36h06a4308_0         141 KB\n",
            "    xz-5.2.5                   |       h7f8727e_1         389 KB\n",
            "    python-3.6.13              |       h12debd9_1        32.5 MB\n",
            "    libgcc-ng-9.1.0            |       hdf63c60_0         8.1 MB\n",
            "    openssl-1.1.1s             |       h7f8727e_0         3.8 MB\n",
            "    wheel-0.37.1               |     pyhd3eb1b0_0          31 KB\n",
            "    tk-8.6.12                  |       h1ccaba5_0         3.3 MB\n",
            "    ncurses-6.3                |       h7f8727e_2         1.0 MB\n",
            "    _libgcc_mutex-0.1          |             main           3 KB\n",
            "    libstdcxx-ng-9.1.0         |       hdf63c60_0         4.0 MB\n",
            "    ld_impl_linux-64-2.38      |       h1181459_1         732 KB\n",
            "    zlib-1.2.12                |       h7f8727e_2         130 KB\n",
            "    ------------------------------------------------------------\n",
            "                                           Total:        59.3 MB\n",
            "\n",
            "The following NEW packages will be INSTALLED:\n",
            "\n",
            "    _libgcc_mutex:    0.1-main         \n",
            "    ld_impl_linux-64: 2.38-h1181459_1  \n",
            "\n",
            "The following packages will be UPDATED:\n",
            "\n",
            "    ca-certificates:  2018.03.07-0      --> 2023.01.10-h06a4308_0   \n",
            "    certifi:          2018.4.16-py36_0  --> 2021.5.30-py36h06a4308_0\n",
            "    libffi:           3.2.1-hd88cf55_4  --> 3.3-he6710b0_2          \n",
            "    libgcc-ng:        7.2.0-hdf63c60_3  --> 9.1.0-hdf63c60_0        \n",
            "    libstdcxx-ng:     7.2.0-hdf63c60_3  --> 9.1.0-hdf63c60_0        \n",
            "    ncurses:          6.1-hf484d3e_0    --> 6.3-h7f8727e_2          \n",
            "    openssl:          1.0.2o-h20670df_0 --> 1.1.1s-h7f8727e_0       \n",
            "    pip:              10.0.1-py36_0     --> 21.2.2-py36h06a4308_0   \n",
            "    python:           3.6.5-hc3d631a_2  --> 3.6.13-h12debd9_1       \n",
            "    readline:         7.0-ha6073c6_4    --> 8.1.2-h7f8727e_1        \n",
            "    setuptools:       39.2.0-py36_0     --> 58.0.4-py36h06a4308_0   \n",
            "    sqlite:           3.23.1-he433501_0 --> 3.38.5-hc218d9a_0       \n",
            "    tk:               8.6.7-hc745277_3  --> 8.6.12-h1ccaba5_0       \n",
            "    wheel:            0.31.1-py36_0     --> 0.37.1-pyhd3eb1b0_0     \n",
            "    xz:               5.2.4-h14c3975_4  --> 5.2.5-h7f8727e_1        \n",
            "    zlib:             1.2.11-ha838bed_2 --> 1.2.12-h7f8727e_2       \n",
            "\n",
            "Preparing transaction: ...working... done\n",
            "Verifying transaction: ...working... done\n",
            "Executing transaction: ...working... done\n"
          ]
        }
      ],
      "source": [
        "\n",
        "!wget -c https://repo.anaconda.com/miniconda/Miniconda3-4.5.4-Linux-x86_64.sh\n",
        "!chmod +x Miniconda3-4.5.4-Linux-x86_64.sh\n",
        "!bash ./Miniconda3-4.5.4-Linux-x86_64.sh -b -f -p /usr/local\n",
        "\n",
        "!conda install -q -y --prefix /usr/local python=3.6\n",
        "\n",
        "# import sys\n",
        "# sys.path.append('/usr/local/lib/python3.6/site-packages')"
      ]
    },
    {
      "cell_type": "code",
      "execution_count": 8,
      "metadata": {
        "colab": {
          "base_uri": "https://localhost:8080/"
        },
        "id": "rm4_Mxnnq7Hu",
        "outputId": "7c72fcce-cabf-4335-e2b3-d4aceab91493"
      },
      "outputs": [
        {
          "name": "stdout",
          "output_type": "stream",
          "text": [
            "conda 4.5.4\n"
          ]
        }
      ],
      "source": [
        "!conda --version"
      ]
    },
    {
      "cell_type": "code",
      "execution_count": 9,
      "metadata": {
        "colab": {
          "base_uri": "https://localhost:8080/"
        },
        "id": "aTrwkK9Qs1fT",
        "outputId": "55f56f08-67dc-4a3e-ef88-25d640a30a0e"
      },
      "outputs": [
        {
          "name": "stdout",
          "output_type": "stream",
          "text": [
            "# conda environments:\n",
            "#\n",
            "base                  *  /usr/local\n",
            "\n"
          ]
        }
      ],
      "source": [
        "!conda env list"
      ]
    },
    {
      "cell_type": "code",
      "execution_count": null,
      "metadata": {
        "id": "_zy9yXlaq-GR"
      },
      "outputs": [],
      "source": [
        "# !conda create -n reltr python=3.6"
      ]
    },
    {
      "cell_type": "code",
      "execution_count": null,
      "metadata": {
        "id": "gmYebwLwt7RH"
      },
      "outputs": [],
      "source": [
        "# !activate reltr"
      ]
    },
    {
      "cell_type": "code",
      "execution_count": 10,
      "metadata": {
        "colab": {
          "base_uri": "https://localhost:8080/"
        },
        "id": "UFCgDluduI6i",
        "outputId": "a9b63934-db8b-427f-e80c-df9da3c454a0"
      },
      "outputs": [
        {
          "name": "stdout",
          "output_type": "stream",
          "text": [
            "Solving environment: - \b\b\\ \b\b| \b\b/ \b\b- \b\b\\ \b\b| \b\b/ \b\b- \b\b\\ \b\b| \b\b/ \b\b- \b\b\\ \b\b| \b\b/ \b\b- \b\b\\ \b\b| \b\b/ \b\b- \b\b\\ \b\b| \b\b/ \b\b- \b\b\\ \b\b| \b\b/ \b\b- \b\b\\ \b\b| \b\b/ \b\b- \b\b\\ \b\b| \b\b/ \b\b- \b\b\\ \b\b| \b\b/ \b\b- \b\b\\ \b\b| \b\b/ \b\b- \b\b\\ \b\b| \b\b/ \b\b- \b\b\\ \b\b| \b\b/ \b\b- \b\b\\ \b\b| \b\b/ \b\b- \b\b\\ \b\b| \b\b/ \b\b- \b\b\\ \b\b| \b\b/ \b\b- \b\b\\ \b\b| \b\b/ \b\b- \b\b\\ \b\b| \b\b/ \b\b- \b\b\\ \b\b| \b\b/ \b\b- \b\b\\ \b\b| \b\b/ \b\b- \b\b\\ \b\b| \b\b/ \b\b- \b\b\\ \b\b| \b\b/ \b\b- \b\b\\ \b\b| \b\b/ \b\b- \b\b\\ \b\b| \b\b/ \b\b- \b\b\\ \b\b| \b\b/ \b\b- \b\b\\ \b\b| \b\b/ \b\b- \b\b\\ \b\b| \b\b/ \b\b- \b\b\\ \b\b| \b\b/ \b\b- \b\b\\ \b\b| \b\b/ \b\b- \b\b\\ \b\b| \b\b/ \b\b- \b\b\\ \b\b| \b\b/ \b\b- \b\b\\ \b\b| \b\b/ \b\b- \b\b\\ \b\b| \b\b/ \b\b- \b\b\\ \b\b| \b\b/ \b\b- \b\b\\ \b\b| \b\b/ \b\b- \b\b\\ \b\b| \b\b/ \b\b- \b\b\\ \b\b| \b\b/ \b\b- \b\b\\ \b\b| \b\b/ \b\b- \b\b\\ \b\b| \b\b/ \b\b- \b\b\\ \b\b| \b\b/ \b\b- \b\b\\ \b\b| \b\b/ \b\b- \b\b\\ \b\b| \b\b/ \b\b- \b\b\\ \b\b| \b\b/ \b\b- \b\b\\ \b\b| \b\b/ \b\b- \b\b\\ \b\b| \b\b/ \b\b- \b\b\\ \b\b| \b\b/ \b\b- \b\b\\ \b\b| \b\b/ \b\b- \b\b\\ \b\b| \b\b/ \b\b- \b\b\\ \b\b| \b\b/ \b\b- \b\b\\ \b\b| \b\b/ \b\b- \b\b\\ \b\b| \b\b/ \b\b- \b\b\\ \b\b| \b\b/ \b\b- \b\b\\ \b\b| \b\b/ \b\b- \b\b\\ \b\b| \b\b/ \b\b- \b\b\\ \b\b| \b\b/ \b\b- \b\b\\ \b\b| \b\b/ \b\b- \b\b\\ \b\b| \b\b/ \b\b- \b\b\\ \b\b| \b\b/ \b\b- \b\b\\ \b\b| \b\bdone\n",
            "\n",
            "\n",
            "==> WARNING: A newer version of conda exists. <==\n",
            "  current version: 4.5.4\n",
            "  latest version: 23.1.0\n",
            "\n",
            "Please update conda by running\n",
            "\n",
            "    $ conda update -n base conda\n",
            "\n",
            "\n",
            "\n",
            "## Package Plan ##\n",
            "\n",
            "  environment location: /usr/local\n",
            "\n",
            "  added / updated specs: \n",
            "    - cudatoolkit=10.1\n",
            "    - pytorch==1.6.0\n",
            "    - torchvision==0.7.0\n",
            "\n",
            "\n",
            "The following packages will be downloaded:\n",
            "\n",
            "    package                    |            build\n",
            "    ---------------------------|-----------------\n",
            "    torchvision-0.7.0          |       py36_cu101        11.0 MB  pytorch\n",
            "    cudatoolkit-10.1.243       |       h6bb024c_0       513.2 MB\n",
            "    libtiff-4.2.0              |       h2818925_1         579 KB\n",
            "    libpng-1.6.37              |       hbc83047_0         364 KB\n",
            "    pillow-8.3.1               |   py36h5aabda8_0         691 KB\n",
            "    lz4-c-1.9.3                |       h295c915_1         216 KB\n",
            "    intel-openmp-2022.0.1      |    h06a4308_3633         8.5 MB\n",
            "    ninja-base-1.10.2          |       hd09550d_5         112 KB\n",
            "    mkl-service-2.3.0          |   py36he8ac12f_0          56 KB\n",
            "    mkl-2020.2                 |              256       213.9 MB\n",
            "    numpy-1.19.2               |   py36h54aff64_0          21 KB\n",
            "    numpy-base-1.19.2          |   py36hfa32c7d_0         5.2 MB\n",
            "    blas-1.0                   |              mkl           6 KB\n",
            "    freetype-2.11.0            |       h70c0345_0         943 KB\n",
            "    lcms2-2.12                 |       h3be6417_0         396 KB\n",
            "    mkl_random-1.1.1           |   py36h0573a6f_0         382 KB\n",
            "    pytorch-1.6.0              |py3.6_cuda10.1.243_cudnn7.6.3_0       516.3 MB  pytorch\n",
            "    jpeg-9e                    |       h7f8727e_0         273 KB\n",
            "    olefile-0.46               |     pyhd3eb1b0_0          33 KB\n",
            "    mkl_fft-1.3.0              |   py36h54f3939_0         185 KB\n",
            "    ninja-1.10.2               |       h06a4308_5           7 KB\n",
            "    libwebp-base-1.2.2         |       h7f8727e_0         869 KB\n",
            "    giflib-5.2.1               |       h7b6447c_0          82 KB\n",
            "    zstd-1.5.2                 |       ha4553b6_0         808 KB\n",
            "    libwebp-1.2.2              |       h55f646e_0          88 KB\n",
            "    ------------------------------------------------------------\n",
            "                                           Total:        1.24 GB\n",
            "\n",
            "The following NEW packages will be INSTALLED:\n",
            "\n",
            "    blas:         1.0-mkl                                      \n",
            "    cudatoolkit:  10.1.243-h6bb024c_0                          \n",
            "    freetype:     2.11.0-h70c0345_0                            \n",
            "    giflib:       5.2.1-h7b6447c_0                             \n",
            "    intel-openmp: 2022.0.1-h06a4308_3633                       \n",
            "    jpeg:         9e-h7f8727e_0                                \n",
            "    lcms2:        2.12-h3be6417_0                              \n",
            "    libpng:       1.6.37-hbc83047_0                            \n",
            "    libtiff:      4.2.0-h2818925_1                             \n",
            "    libwebp:      1.2.2-h55f646e_0                             \n",
            "    libwebp-base: 1.2.2-h7f8727e_0                             \n",
            "    lz4-c:        1.9.3-h295c915_1                             \n",
            "    mkl:          2020.2-256                                   \n",
            "    mkl-service:  2.3.0-py36he8ac12f_0                         \n",
            "    mkl_fft:      1.3.0-py36h54f3939_0                         \n",
            "    mkl_random:   1.1.1-py36h0573a6f_0                         \n",
            "    ninja:        1.10.2-h06a4308_5                            \n",
            "    ninja-base:   1.10.2-hd09550d_5                            \n",
            "    numpy:        1.19.2-py36h54aff64_0                        \n",
            "    numpy-base:   1.19.2-py36hfa32c7d_0                        \n",
            "    olefile:      0.46-pyhd3eb1b0_0                            \n",
            "    pillow:       8.3.1-py36h5aabda8_0                         \n",
            "    pytorch:      1.6.0-py3.6_cuda10.1.243_cudnn7.6.3_0 pytorch\n",
            "    torchvision:  0.7.0-py36_cu101                      pytorch\n",
            "    zstd:         1.5.2-ha4553b6_0                             \n",
            "\n",
            "Proceed ([y]/n)? y\n",
            "\n",
            "\n",
            "Downloading and Extracting Packages\n",
            "torchvision-0.7.0    | 11.0 MB | : 100% 1.0/1 [00:01<00:00,  1.81s/it]               \n",
            "cudatoolkit-10.1.243 | 513.2 MB | : 100% 1.0/1 [01:04<00:00, 64.24s/it]                \n",
            "libtiff-4.2.0        |  579 KB | : 100% 1.0/1 [00:00<00:00,  7.26it/s]               \n",
            "libpng-1.6.37        |  364 KB | : 100% 1.0/1 [00:00<00:00, 11.54it/s]\n",
            "pillow-8.3.1         |  691 KB | : 100% 1.0/1 [00:00<00:00,  2.09it/s]               \n",
            "lz4-c-1.9.3          |  216 KB | : 100% 1.0/1 [00:00<00:00, 15.28it/s]\n",
            "intel-openmp-2022.0. |  8.5 MB | : 100% 1.0/1 [00:01<00:00,  1.31s/it]               \n",
            "ninja-base-1.10.2    |  112 KB | : 100% 1.0/1 [00:00<00:00, 23.22it/s]\n",
            "mkl-service-2.3.0    |   56 KB | : 100% 1.0/1 [00:00<00:00, 24.17it/s]\n",
            "mkl-2020.2           | 213.9 MB | : 100% 1.0/1 [00:35<00:00, 35.43s/it]                \n",
            "numpy-1.19.2         |   21 KB | : 100% 1.0/1 [00:00<00:00, 26.73it/s]\n",
            "numpy-base-1.19.2    |  5.2 MB | : 100% 1.0/1 [00:01<00:00,  1.12s/it]               \n",
            "blas-1.0             |    6 KB | : 100% 1.0/1 [00:00<00:00, 35.21it/s]\n",
            "freetype-2.11.0      |  943 KB | : 100% 1.0/1 [00:00<00:00,  5.84it/s]               \n",
            "lcms2-2.12           |  396 KB | : 100% 1.0/1 [00:00<00:00, 10.78it/s]\n",
            "mkl_random-1.1.1     |  382 KB | : 100% 1.0/1 [00:00<00:00,  8.42it/s]\n",
            "pytorch-1.6.0        | 516.3 MB | : 100% 1.0/1 [01:11<00:00, 71.97s/it]                \n",
            "jpeg-9e              |  273 KB | : 100% 1.0/1 [00:00<00:00, 12.42it/s]\n",
            "olefile-0.46         |   33 KB | : 100% 1.0/1 [00:00<00:00, 26.05it/s]\n",
            "mkl_fft-1.3.0        |  185 KB | : 100% 1.0/1 [00:00<00:00, 16.48it/s]\n",
            "ninja-1.10.2         |    7 KB | : 100% 1.0/1 [00:00<00:00, 32.81it/s]\n",
            "libwebp-base-1.2.2   |  869 KB | : 100% 1.0/1 [00:00<00:00,  6.12it/s]              \n",
            "giflib-5.2.1         |   82 KB | : 100% 1.0/1 [00:00<00:00, 21.45it/s]\n",
            "zstd-1.5.2           |  808 KB | : 100% 1.0/1 [00:00<00:00,  7.03it/s]               \n",
            "libwebp-1.2.2        |   88 KB | : 100% 1.0/1 [00:00<00:00, 24.70it/s]\n",
            "Preparing transaction: - \b\b\\ \b\b| \b\bdone\n",
            "Verifying transaction: - \b\b\\ \b\b| \b\b/ \b\b- \b\b\\ \b\b| \b\b/ \b\b- \b\b\\ \b\b| \b\b/ \b\b- \b\b\\ \b\b| \b\b/ \b\b- \b\b\\ \b\b| \b\b/ \b\b- \b\b\\ \b\b| \b\b/ \b\b- \b\b\\ \b\b| \b\b/ \b\b- \b\b\\ \b\b| \b\b/ \b\b- \b\b\\ \b\b| \b\b/ \b\b- \b\b\\ \b\b| \b\b/ \b\b- \b\b\\ \b\b| \b\b/ \b\b- \b\b\\ \b\b| \b\b/ \b\b- \b\b\\ \b\b| \b\b/ \b\b- \b\b\\ \b\b| \b\b/ \b\b- \b\b\\ \b\b| \b\b/ \b\b- \b\b\\ \b\b| \b\b/ \b\b- \b\b\\ \b\b| \b\b/ \b\b- \b\b\\ \b\b| \b\b/ \b\b- \b\b\\ \b\b| \b\b/ \b\b- \b\b\\ \b\b| \b\b/ \b\b- \b\b\\ \b\b| \b\b/ \b\b- \b\b\\ \b\b| \b\b/ \b\b- \b\b\\ \b\b| \b\b/ \b\b- \b\b\\ \b\b| \b\b/ \b\b- \b\b\\ \b\b| \b\b/ \b\b- \b\bdone\n",
            "Executing transaction: | \b\b/ \b\b- \b\b\\ \b\b| \b\b/ \b\b- \b\b\\ \b\b| \b\b/ \b\b- \b\b\\ \b\b| \b\b/ \b\b- \b\b\\ \b\b| \b\b/ \b\b- \b\b\\ \b\b| \b\b/ \b\b- \b\b\\ \b\b| \b\b/ \b\b- \b\b\\ \b\b| \b\b/ \b\b- \b\b\\ \b\b| \b\b/ \b\b- \b\b\\ \b\b| \b\b/ \b\b- \b\b\\ \b\b| \b\b/ \b\b- \b\b\\ \b\b| \b\b/ \b\b- \b\b\\ \b\b| \b\b/ \b\b- \b\b\\ \b\b| \b\b/ \b\b- \b\b\\ \b\b| \b\b/ \b\b- \b\b\\ \b\b| \b\b/ \b\b- \b\b\\ \b\b| \b\b/ \b\b- \b\b\\ \b\b| \b\b/ \b\b- \b\b\\ \b\b| \b\b/ \b\bdone\n"
          ]
        }
      ],
      "source": [
        "!conda install pytorch==1.6.0 torchvision==0.7.0 cudatoolkit=10.1 -c pytorch"
      ]
    },
    {
      "cell_type": "code",
      "execution_count": 11,
      "metadata": {
        "colab": {
          "base_uri": "https://localhost:8080/"
        },
        "id": "MDz2t8n-Sp39",
        "outputId": "dd6ff774-358a-4e52-a471-68817f9bab95"
      },
      "outputs": [
        {
          "name": "stdout",
          "output_type": "stream",
          "text": [
            "Solving environment: - \b\b\\ \b\b| \b\b/ \b\b- \b\b\\ \b\b| \b\b/ \b\b- \b\b\\ \b\b| \b\b/ \b\b- \b\b\\ \b\b| \b\b/ \b\b- \b\b\\ \b\b| \b\b/ \b\b- \b\b\\ \b\b| \b\b/ \b\b- \b\b\\ \b\b| \b\b/ \b\b- \b\b\\ \b\b| \b\b/ \b\b- \b\b\\ \b\b| \b\b/ \b\b- \b\b\\ \b\b| \b\b/ \b\b- \b\b\\ \b\b| \b\b/ \b\b- \b\b\\ \b\b| \b\b/ \b\b- \b\b\\ \b\b| \b\b/ \b\b- \b\b\\ \b\b| \b\b/ \b\b- \b\b\\ \b\b| \b\b/ \b\b- \b\b\\ \b\b| \b\b/ \b\b- \b\b\\ \b\b| \b\b/ \b\b- \b\b\\ \b\b| \b\b/ \b\b- \b\b\\ \b\b| \b\b/ \b\b- \b\b\\ \b\b| \b\b/ \b\b- \b\b\\ \b\b| \b\b/ \b\b- \b\b\\ \b\b| \b\b/ \b\b- \b\b\\ \b\b| \b\b/ \b\b- \b\b\\ \b\b| \b\b/ \b\b- \b\b\\ \b\b| \b\b/ \b\b- \b\b\\ \b\b| \b\b/ \b\b- \b\b\\ \b\b| \b\b/ \b\b- \b\b\\ \b\b| \b\b/ \b\b- \b\b\\ \b\b| \b\b/ \b\b- \b\b\\ \b\b| \b\b/ \b\b- \b\b\\ \b\b| \b\b/ \b\b- \b\b\\ \b\b| \b\b/ \b\b- \b\b\\ \b\b| \b\b/ \b\b- \b\b\\ \b\b| \b\b/ \b\b- \b\b\\ \b\b| \b\b/ \b\b- \b\b\\ \b\b| \b\b/ \b\b- \b\b\\ \b\b| \b\b/ \b\b- \b\b\\ \b\b| \b\b/ \b\b- \b\b\\ \b\b| \b\b/ \b\b- \b\b\\ \b\b| \b\b/ \b\b- \b\b\\ \b\b| \b\b/ \b\b- \b\b\\ \b\b| \b\b/ \b\b- \b\b\\ \b\b| \b\b/ \b\b- \b\b\\ \b\b| \b\b/ \b\b- \b\b\\ \b\b| \b\b/ \b\b- \b\b\\ \b\b| \b\b/ \b\b- \b\b\\ \b\b| \b\b/ \b\b- \b\b\\ \b\b| \b\b/ \b\b- \b\b\\ \b\b| \b\b/ \b\b- \b\b\\ \b\b| \b\b/ \b\b- \b\b\\ \b\b| \b\b/ \b\b- \b\b\\ \b\b| \b\b/ \b\b- \b\b\\ \b\b| \b\b/ \b\b- \b\b\\ \b\b| \b\b/ \b\b- \b\b\\ \b\b| \b\b/ \b\b- \b\b\\ \b\b| \b\b/ \b\b- \b\b\\ \b\b| \b\b/ \b\b- \b\b\\ \b\b| \b\b/ \b\b- \b\b\\ \b\b| \b\b/ \b\b- \b\b\\ \b\b| \b\b/ \b\b- \b\b\\ \b\b| \b\b/ \b\b- \b\b\\ \b\b| \b\b/ \b\b- \b\b\\ \b\b| \b\b/ \b\b- \b\b\\ \b\b| \b\b/ \b\b- \b\b\\ \b\b| \b\b/ \b\b- \b\bdone\n",
            "\n",
            "\n",
            "==> WARNING: A newer version of conda exists. <==\n",
            "  current version: 4.5.4\n",
            "  latest version: 23.1.0\n",
            "\n",
            "Please update conda by running\n",
            "\n",
            "    $ conda update -n base conda\n",
            "\n",
            "\n",
            "\n",
            "## Package Plan ##\n",
            "\n",
            "  environment location: /usr/local\n",
            "\n",
            "  added / updated specs: \n",
            "    - matplotlib\n",
            "\n",
            "\n",
            "The following packages will be downloaded:\n",
            "\n",
            "    package                    |            build\n",
            "    ---------------------------|-----------------\n",
            "    pyqt-5.9.2                 |   py36h05f1152_2         5.6 MB\n",
            "    libxcb-1.15                |       h7f8727e_0         609 KB\n",
            "    kiwisolver-1.3.1           |   py36h2531618_0          86 KB\n",
            "    gstreamer-1.14.0           |       h28cd5cc_2         4.0 MB\n",
            "    qt-5.9.7                   |       h5867ecd_1        85.9 MB\n",
            "    libxml2-2.9.14             |       h74e7548_0         771 KB\n",
            "    expat-2.4.4                |       h295c915_0         211 KB\n",
            "    libuuid-1.0.3              |       h7f8727e_2          18 KB\n",
            "    cycler-0.11.0              |     pyhd3eb1b0_0          12 KB\n",
            "    glib-2.69.1                |       h4ff587b_1         1.9 MB\n",
            "    tornado-6.1                |   py36h27cfd23_0         643 KB\n",
            "    pyparsing-3.0.4            |     pyhd3eb1b0_0          78 KB\n",
            "    dbus-1.13.18               |       hb2f20db_0         586 KB\n",
            "    python-dateutil-2.8.2      |     pyhd3eb1b0_0         241 KB\n",
            "    matplotlib-base-3.3.4      |   py36h62a2d02_0         6.7 MB\n",
            "    gst-plugins-base-1.14.0    |       h8213a91_2         6.3 MB\n",
            "    matplotlib-3.3.4           |   py36h06a4308_0          25 KB\n",
            "    sip-4.19.8                 |   py36hf484d3e_0         290 KB\n",
            "    icu-58.2                   |       he6710b0_3        22.7 MB\n",
            "    fontconfig-2.13.1          |       h6c09931_0         299 KB\n",
            "    pcre-8.45                  |       h295c915_0         257 KB\n",
            "    ------------------------------------------------------------\n",
            "                                           Total:       137.2 MB\n",
            "\n",
            "The following NEW packages will be INSTALLED:\n",
            "\n",
            "    cycler:           0.11.0-pyhd3eb1b0_0  \n",
            "    dbus:             1.13.18-hb2f20db_0   \n",
            "    expat:            2.4.4-h295c915_0     \n",
            "    fontconfig:       2.13.1-h6c09931_0    \n",
            "    glib:             2.69.1-h4ff587b_1    \n",
            "    gst-plugins-base: 1.14.0-h8213a91_2    \n",
            "    gstreamer:        1.14.0-h28cd5cc_2    \n",
            "    icu:              58.2-he6710b0_3      \n",
            "    kiwisolver:       1.3.1-py36h2531618_0 \n",
            "    libuuid:          1.0.3-h7f8727e_2     \n",
            "    libxcb:           1.15-h7f8727e_0      \n",
            "    libxml2:          2.9.14-h74e7548_0    \n",
            "    matplotlib:       3.3.4-py36h06a4308_0 \n",
            "    matplotlib-base:  3.3.4-py36h62a2d02_0 \n",
            "    pcre:             8.45-h295c915_0      \n",
            "    pyparsing:        3.0.4-pyhd3eb1b0_0   \n",
            "    pyqt:             5.9.2-py36h05f1152_2 \n",
            "    python-dateutil:  2.8.2-pyhd3eb1b0_0   \n",
            "    qt:               5.9.7-h5867ecd_1     \n",
            "    sip:              4.19.8-py36hf484d3e_0\n",
            "    tornado:          6.1-py36h27cfd23_0   \n",
            "\n",
            "Proceed ([y]/n)? y\n",
            "\n",
            "\n",
            "Downloading and Extracting Packages\n",
            "pyqt-5.9.2           |  5.6 MB | : 100% 1.0/1 [00:02<00:00,  2.12s/it]              \n",
            "libxcb-1.15          |  609 KB | : 100% 1.0/1 [00:00<00:00,  3.57it/s]               \n",
            "kiwisolver-1.3.1     |   86 KB | : 100% 1.0/1 [00:00<00:00, 18.92it/s]\n",
            "gstreamer-1.14.0     |  4.0 MB | : 100% 1.0/1 [00:00<00:00,  1.14it/s]               \n",
            "qt-5.9.7             | 85.9 MB | : 100% 1.0/1 [00:16<00:00, 16.99s/it]               \n",
            "libxml2-2.9.14       |  771 KB | : 100% 1.0/1 [00:00<00:00,  6.21it/s]               \n",
            "expat-2.4.4          |  211 KB | : 100% 1.0/1 [00:00<00:00, 17.13it/s]\n",
            "libuuid-1.0.3        |   18 KB | : 100% 1.0/1 [00:00<00:00, 18.81it/s]\n",
            "cycler-0.11.0        |   12 KB | : 100% 1.0/1 [00:00<00:00, 33.11it/s]\n",
            "glib-2.69.1          |  1.9 MB | : 100% 1.0/1 [00:00<00:00,  2.55it/s]               \n",
            "tornado-6.1          |  643 KB | : 100% 1.0/1 [00:00<00:00,  5.39it/s]               \n",
            "pyparsing-3.0.4      |   78 KB | : 100% 1.0/1 [00:00<00:00, 20.69it/s]\n",
            "dbus-1.13.18         |  586 KB | : 100% 1.0/1 [00:00<00:00,  8.11it/s]               \n",
            "python-dateutil-2.8. |  241 KB | : 100% 1.0/1 [00:00<00:00, 16.95it/s]\n",
            "matplotlib-base-3.3. |  6.7 MB | : 100% 1.0/1 [00:01<00:00,  1.17s/it]               \n",
            "gst-plugins-base-1.1 |  6.3 MB | : 100% 1.0/1 [00:01<00:00,  1.24s/it]               \n",
            "matplotlib-3.3.4     |   25 KB | : 100% 1.0/1 [00:00<00:00, 27.43it/s]\n",
            "sip-4.19.8           |  290 KB | : 100% 1.0/1 [00:00<00:00, 10.34it/s]\n",
            "icu-58.2             | 22.7 MB | : 100% 1.0/1 [00:03<00:00,  3.16s/it]               \n",
            "fontconfig-2.13.1    |  299 KB | : 100% 1.0/1 [00:00<00:00,  9.83it/s]\n",
            "pcre-8.45            |  257 KB | : 100% 1.0/1 [00:00<00:00, 12.64it/s]\n",
            "Preparing transaction: | \b\b/ \b\b- \b\b\\ \b\bdone\n",
            "Verifying transaction: / \b\b- \b\b\\ \b\b| \b\b/ \b\b- \b\b\\ \b\b| \b\b/ \b\b- \b\b\\ \b\b| \b\b/ \b\b- \b\b\\ \b\b| \b\b/ \b\b- \b\b\\ \b\b| \b\b/ \b\b- \b\b\\ \b\b| \b\b/ \b\b- \b\b\\ \b\b| \b\b/ \b\b- \b\b\\ \b\b| \b\b/ \b\b- \b\bdone\n",
            "Executing transaction: | \b\b/ \b\b- \b\b\\ \b\b| \b\b/ \b\b- \b\b\\ \b\b| \b\b/ \b\b- \b\b\\ \b\b| \b\b/ \b\b- \b\b\\ \b\b| \b\b/ \b\b- \b\b\\ \b\b| \b\b/ \b\b- \b\bdone\n"
          ]
        }
      ],
      "source": [
        "!conda install matplotlib"
      ]
    },
    {
      "cell_type": "code",
      "execution_count": 12,
      "metadata": {
        "colab": {
          "base_uri": "https://localhost:8080/"
        },
        "id": "Txg04OdyvLkj",
        "outputId": "3ff59f78-35b9-48af-f42b-bba05df9cf53"
      },
      "outputs": [
        {
          "name": "stdout",
          "output_type": "stream",
          "text": [
            "Solving environment: - \b\b\\ \b\b| \b\b/ \b\b- \b\b\\ \b\b| \b\b/ \b\b- \b\b\\ \b\b| \b\b/ \b\b- \b\b\\ \b\b| \b\b/ \b\b- \b\b\\ \b\b| \b\b/ \b\b- \b\b\\ \b\b| \b\b/ \b\b- \b\b\\ \b\b| \b\b/ \b\b- \b\b\\ \b\b| \b\b/ \b\b- \b\b\\ \b\b| \b\b/ \b\b- \b\b\\ \b\b| \b\b/ \b\b- \b\b\\ \b\b| \b\b/ \b\b- \b\b\\ \b\b| \b\b/ \b\b- \b\b\\ \b\b| \b\b/ \b\b- \b\b\\ \b\b| \b\b/ \b\b- \b\b\\ \b\b| \b\b/ \b\b- \b\b\\ \b\b| \b\b/ \b\b- \b\b\\ \b\b| \b\b/ \b\b- \b\b\\ \b\b| \b\b/ \b\b- \b\b\\ \b\b| \b\b/ \b\b- \b\b\\ \b\b| \b\b/ \b\b- \b\b\\ \b\b| \b\b/ \b\b- \b\b\\ \b\b| \b\b/ \b\b- \b\b\\ \b\b| \b\b/ \b\b- \b\b\\ \b\b| \b\b/ \b\b- \b\b\\ \b\b| \b\b/ \b\b- \b\b\\ \b\b| \b\b/ \b\b- \b\b\\ \b\b| \b\b/ \b\b- \b\b\\ \b\b| \b\b/ \b\b- \b\b\\ \b\b| \b\b/ \b\b- \b\b\\ \b\b| \b\b/ \b\b- \b\b\\ \b\b| \b\b/ \b\b- \b\b\\ \b\b| \b\b/ \b\b- \b\b\\ \b\b| \b\b/ \b\b- \b\b\\ \b\b| \b\b/ \b\b- \b\b\\ \b\b| \b\b/ \b\b- \b\b\\ \b\b| \b\b/ \b\b- \b\b\\ \b\b| \b\b/ \b\b- \b\b\\ \b\b| \b\b/ \b\b- \b\b\\ \b\b| \b\b/ \b\b- \b\b\\ \b\b| \b\b/ \b\b- \b\b\\ \b\b| \b\b/ \b\b- \b\b\\ \b\b| \b\b/ \b\b- \b\b\\ \b\b| \b\b/ \b\b- \b\b\\ \b\b| \b\b/ \b\b- \b\b\\ \b\b| \b\b/ \b\b- \b\b\\ \b\b| \b\b/ \b\b- \b\b\\ \b\b| \b\b/ \b\b- \b\b\\ \b\b| \b\b/ \b\b- \b\b\\ \b\b| \b\b/ \b\b- \b\b\\ \b\b| \b\b/ \b\b- \b\b\\ \b\b| \b\b/ \b\b- \b\b\\ \b\b| \b\b/ \b\b- \b\b\\ \b\b| \b\b/ \b\b- \b\bdone\n",
            "\n",
            "\n",
            "==> WARNING: A newer version of conda exists. <==\n",
            "  current version: 4.5.4\n",
            "  latest version: 23.1.0\n",
            "\n",
            "Please update conda by running\n",
            "\n",
            "    $ conda update -n base conda\n",
            "\n",
            "\n",
            "\n",
            "## Package Plan ##\n",
            "\n",
            "  environment location: /usr/local\n",
            "\n",
            "  added / updated specs: \n",
            "    - scipy==1.5.2\n",
            "\n",
            "\n",
            "The following packages will be downloaded:\n",
            "\n",
            "    package                    |            build\n",
            "    ---------------------------|-----------------\n",
            "    libgfortran-ng-7.3.0       |       hdf63c60_0         1.3 MB\n",
            "    scipy-1.5.2                |   py36h0b6359f_0        18.5 MB\n",
            "    ------------------------------------------------------------\n",
            "                                           Total:        19.8 MB\n",
            "\n",
            "The following NEW packages will be INSTALLED:\n",
            "\n",
            "    libgfortran-ng: 7.3.0-hdf63c60_0    \n",
            "    scipy:          1.5.2-py36h0b6359f_0\n",
            "\n",
            "Proceed ([y]/n)? y\n",
            "\n",
            "\n",
            "Downloading and Extracting Packages\n",
            "libgfortran-ng-7.3.0 |  1.3 MB | : 100% 1.0/1 [00:00<00:00,  2.05it/s]               \n",
            "scipy-1.5.2          | 18.5 MB | : 100% 1.0/1 [00:03<00:00,  3.27s/it]               \n",
            "Preparing transaction: | \b\bdone\n",
            "Verifying transaction: - \b\b\\ \b\b| \b\b/ \b\b- \b\bdone\n",
            "Executing transaction: | \b\b/ \b\bdone\n"
          ]
        }
      ],
      "source": [
        "!conda install scipy==1.5.2"
      ]
    },
    {
      "cell_type": "code",
      "execution_count": 13,
      "metadata": {
        "colab": {
          "base_uri": "https://localhost:8080/"
        },
        "id": "eaAoR9-4MgCx",
        "outputId": "f2e3bd08-243d-4f0a-e4f1-f200576ff39b"
      },
      "outputs": [
        {
          "name": "stdout",
          "output_type": "stream",
          "text": [
            "Looking in indexes: https://pypi.org/simple, https://us-python.pkg.dev/colab-wheels/public/simple/\n",
            "Collecting git+https://github.com/cocodataset/cocoapi.git#subdirectory=PythonAPI\n",
            "  Cloning https://github.com/cocodataset/cocoapi.git to /tmp/pip-req-build-fl5amvyo\n",
            "  Running command git clone -q https://github.com/cocodataset/cocoapi.git /tmp/pip-req-build-fl5amvyo\n",
            "  Resolved https://github.com/cocodataset/cocoapi.git to commit 8c9bcc3cf640524c4c20a9c40e89cb6a2f2fa0e9\n",
            "Requirement already satisfied: setuptools>=18.0 in /usr/local/lib/python3.6/site-packages (from pycocotools==2.0) (58.0.4)\n",
            "Collecting cython>=0.27.3\n",
            "  Downloading Cython-0.29.33-cp36-cp36m-manylinux_2_17_x86_64.manylinux2014_x86_64.manylinux_2_24_x86_64.whl (2.0 MB)\n",
            "\u001b[K     |████████████████████████████████| 2.0 MB 6.9 MB/s \n",
            "\u001b[?25hRequirement already satisfied: matplotlib>=2.1.0 in /usr/local/lib/python3.6/site-packages (from pycocotools==2.0) (3.3.4)\n",
            "Requirement already satisfied: numpy>=1.15 in /usr/local/lib/python3.6/site-packages (from matplotlib>=2.1.0->pycocotools==2.0) (1.19.2)\n",
            "Requirement already satisfied: kiwisolver>=1.0.1 in /usr/local/lib/python3.6/site-packages (from matplotlib>=2.1.0->pycocotools==2.0) (1.3.1)\n",
            "Requirement already satisfied: python-dateutil>=2.1 in /usr/local/lib/python3.6/site-packages (from matplotlib>=2.1.0->pycocotools==2.0) (2.8.2)\n",
            "Requirement already satisfied: pillow>=6.2.0 in /usr/local/lib/python3.6/site-packages (from matplotlib>=2.1.0->pycocotools==2.0) (8.3.1)\n",
            "Requirement already satisfied: pyparsing!=2.0.4,!=2.1.2,!=2.1.6,>=2.0.3 in /usr/local/lib/python3.6/site-packages (from matplotlib>=2.1.0->pycocotools==2.0) (3.0.4)\n",
            "Requirement already satisfied: cycler>=0.10 in /usr/local/lib/python3.6/site-packages (from matplotlib>=2.1.0->pycocotools==2.0) (0.11.0)\n",
            "Requirement already satisfied: six>=1.5 in /usr/local/lib/python3.6/site-packages (from python-dateutil>=2.1->matplotlib>=2.1.0->pycocotools==2.0) (1.11.0)\n",
            "Building wheels for collected packages: pycocotools\n",
            "  Building wheel for pycocotools (setup.py) ... \u001b[?25lerror\n",
            "\u001b[31m  ERROR: Failed building wheel for pycocotools\u001b[0m\n",
            "\u001b[?25h  Running setup.py clean for pycocotools\n",
            "Failed to build pycocotools\n",
            "Installing collected packages: cython, pycocotools\n",
            "    Running setup.py install for pycocotools ... \u001b[?25l\u001b[?25hdone\n",
            "\u001b[33m  DEPRECATION: pycocotools was installed using the legacy 'setup.py install' method, because a wheel could not be built for it. A possible replacement is to fix the wheel build issue reported above. You can find discussion regarding this at https://github.com/pypa/pip/issues/8368.\u001b[0m\n",
            "Successfully installed cython-0.29.33 pycocotools-2.0\n",
            "\u001b[33mWARNING: Running pip as the 'root' user can result in broken permissions and conflicting behaviour with the system package manager. It is recommended to use a virtual environment instead: https://pip.pypa.io/warnings/venv\u001b[0m\n"
          ]
        }
      ],
      "source": [
        "!pip install -U  git+https://github.com/cocodataset/cocoapi.git#subdirectory=PythonAPI\n"
      ]
    },
    {
      "cell_type": "code",
      "execution_count": 14,
      "metadata": {
        "colab": {
          "base_uri": "https://localhost:8080/"
        },
        "id": "kU9Rk0nmOjpV",
        "outputId": "ed756611-fce8-45a9-db9c-c8b3b628991f"
      },
      "outputs": [
        {
          "name": "stdout",
          "output_type": "stream",
          "text": [
            "Solving environment: - \b\b\\ \b\b| \b\b/ \b\b- \b\b\\ \b\b| \b\b/ \b\b- \b\b\\ \b\b| \b\b/ \b\b- \b\b\\ \b\b| \b\b/ \b\b- \b\b\\ \b\b| \b\b/ \b\b- \b\b\\ \b\b| \b\b/ \b\b- \b\b\\ \b\b| \b\b/ \b\b- \b\b\\ \b\b| \b\b/ \b\b- \b\b\\ \b\b| \b\b/ \b\b- \b\b\\ \b\b| \b\b/ \b\b- \b\b\\ \b\b| \b\b/ \b\b- \b\b\\ \b\b| \b\b/ \b\b- \b\b\\ \b\b| \b\b/ \b\b- \b\b\\ \b\b| \b\b/ \b\b- \b\b\\ \b\b| \b\b/ \b\b- \b\b\\ \b\b| \b\b/ \b\b- \b\b\\ \b\b| \b\b/ \b\b- \b\b\\ \b\b| \b\b/ \b\b- \b\b\\ \b\b| \b\b/ \b\b- \b\b\\ \b\b| \b\b/ \b\b- \b\b\\ \b\b| \b\b/ \b\b- \b\b\\ \b\b| \b\b/ \b\b- \b\b\\ \b\b| \b\b/ \b\b- \b\b\\ \b\b| \b\b/ \b\b- \b\b\\ \b\b| \b\b/ \b\b- \b\b\\ \b\b| \b\b/ \b\b- \b\b\\ \b\b| \b\b/ \b\b- \b\b\\ \b\b| \b\b/ \b\b- \b\b\\ \b\b| \b\b/ \b\b- \b\b\\ \b\b| \b\b/ \b\b- \b\b\\ \b\b| \b\b/ \b\b- \b\b\\ \b\b| \b\b/ \b\b- \b\b\\ \b\b| \b\b/ \b\b- \b\b\\ \b\b| \b\b/ \b\b- \b\b\\ \b\b| \b\b/ \b\b- \b\b\\ \b\b| \b\b/ \b\b- \b\b\\ \b\b| \b\b/ \b\b- \b\b\\ \b\b| \b\b/ \b\b- \b\b\\ \b\b| \b\b/ \b\b- \b\b\\ \b\b| \b\b/ \b\b- \b\b\\ \b\b| \b\b/ \b\b- \b\b\\ \b\b| \b\b/ \b\b- \b\b\\ \b\b| \b\b/ \b\b- \b\b\\ \b\b| \b\b/ \b\b- \b\b\\ \b\b| \b\b/ \b\b- \b\b\\ \b\b| \b\b/ \b\b- \b\b\\ \b\b| \b\b/ \b\b- \b\b\\ \b\b| \b\b/ \b\b- \b\b\\ \b\b| \b\b/ \b\b- \b\b\\ \b\b| \b\b/ \b\b- \b\b\\ \b\b| \b\b/ \b\b- \b\b\\ \b\b| \b\b/ \b\b- \b\b\\ \b\b| \b\b/ \b\b- \b\b\\ \b\b| \b\b/ \b\b- \b\b\\ \b\b| \b\b/ \b\b- \b\b\\ \b\b| \b\b/ \b\b- \b\b\\ \b\b| \b\b/ \b\b- \b\b\\ \b\b| \b\b/ \b\b- \b\b\\ \b\b| \b\b/ \b\b- \b\b\\ \b\b| \b\b/ \b\b- \b\b\\ \b\b| \b\b/ \b\b- \b\b\\ \b\b| \b\b/ \b\b- \b\b\\ \b\b| \b\b/ \b\b- \b\b\\ \b\b| \b\b/ \b\b- \b\b\\ \b\b| \b\b/ \b\b- \b\b\\ \b\b| \b\b/ \b\b- \b\b\\ \b\b| \b\b/ \b\b- \b\b\\ \b\b| \b\b/ \b\b- \b\b\\ \b\b| \b\b/ \b\b- \b\b\\ \b\b| \b\b/ \b\b- \b\b\\ \b\b| \b\b/ \b\b- \b\b\\ \b\b| \b\b/ \b\b- \b\b\\ \b\b| \b\b/ \b\b- \b\b\\ \b\b| \b\b/ \b\b- \b\b\\ \b\b| \b\b/ \b\b- \b\b\\ \b\b| \b\b/ \b\b- \b\b\\ \b\b| \b\b/ \b\b- \b\b\\ \b\b| \b\b/ \b\b- \b\b\\ \b\b| \b\b/ \b\b- \b\b\\ \b\b| \b\b/ \b\b- \b\b\\ \b\b| \b\b/ \b\b- \b\b\\ \b\b| \b\b/ \b\b- \b\b\\ \b\b| \b\b/ \b\b- \b\b\\ \b\b| \b\b/ \b\b- \b\b\\ \b\b| \b\b/ \b\b- \b\b\\ \b\b| \b\b/ \b\b- \b\b\\ \b\b| \b\b/ \b\b- \b\b\\ \b\b| \b\b/ \b\b- \b\b\\ \b\b| \b\b/ \b\b- \b\b\\ \b\b| \b\b/ \b\b- \b\b\\ \b\b| \b\b/ \b\b- \b\b\\ \b\b| \b\b/ \b\b- \b\b\\ \b\b| \b\b/ \b\b- \b\b\\ \b\b| \b\b/ \b\b- \b\b\\ \b\b| \b\b/ \b\b- \b\b\\ \b\b| \b\b/ \b\b- \b\b\\ \b\b| \b\b/ \b\b- \b\b\\ \b\b| \b\b/ \b\b- \b\b\\ \b\b| \b\b/ \b\b- \b\b\\ \b\b| \b\b/ \b\b- \b\b\\ \b\b| \b\b/ \b\b- \b\b\\ \b\b| \b\b/ \b\b- \b\b\\ \b\b| \b\b/ \b\b- \b\b\\ \b\b| \b\b/ \b\b- \b\b\\ \b\b| \b\b/ \b\b- \b\b\\ \b\b| \b\b/ \b\b- \b\b\\ \b\b| \b\b/ \b\b- \b\b\\ \b\b| \b\b/ \b\b- \b\b\\ \b\b| \b\b/ \b\b- \b\b\\ \b\b| \b\b/ \b\b- \b\b\\ \b\b| \b\b/ \b\b- \b\b\\ \b\b| \b\b/ \b\b- \b\b\\ \b\b| \b\b/ \b\b- \b\b\\ \b\b| \b\b/ \b\b- \b\b\\ \b\b| \b\b/ \b\b- \b\b\\ \b\b| \b\b/ \b\b- \b\b\\ \b\b| \b\b/ \b\b- \b\b\\ \b\b| \b\b/ \b\b- \b\b\\ \b\b| \b\b/ \b\b- \b\b\\ \b\b| \b\b/ \b\b- \b\b\\ \b\b| \b\b/ \b\b- \b\b\\ \b\b| \b\b/ \b\b- \b\b\\ \b\b| \b\b/ \b\b- \b\b\\ \b\b| \b\b/ \b\b- \b\b\\ \b\b| \b\b/ \b\b- \b\b\\ \b\b| \b\b/ \b\b- \b\b\\ \b\b| \b\b/ \b\b- \b\b\\ \b\b| \b\b/ \b\b- \b\b\\ \b\b| \b\b/ \b\b- \b\b\\ \b\b| \b\b/ \b\b- \b\b\\ \b\b| \b\b/ \b\b- \b\b\\ \b\b| \b\b/ \b\b- \b\b\\ \b\b| \b\b/ \b\b- \b\b\\ \b\b| \b\b/ \b\b- \b\b\\ \b\b| \b\b/ \b\b- \b\b\\ \b\b| \b\b/ \b\b- \b\b\\ \b\b| \b\b/ \b\b- \b\b\\ \b\b| \b\b/ \b\b- \b\b\\ \b\b| \b\b/ \b\b- \b\b\\ \b\b| \b\b/ \b\b- \b\b\\ \b\b| \b\b/ \b\b- \b\b\\ \b\b| \b\b/ \b\b- \b\b\\ \b\b| \b\b/ \b\b- \b\b\\ \b\b| \b\b/ \b\b- \b\b\\ \b\b| \b\b/ \b\b- \b\b\\ \b\b| \b\b/ \b\b- \b\b\\ \b\b| \b\b/ \b\b- \b\b\\ \b\b| \b\b/ \b\b- \b\b\\ \b\b| \b\b/ \b\b- \b\b\\ \b\b| \b\b/ \b\b- \b\b\\ \b\b| \b\b/ \b\b- \b\b\\ \b\b| \b\b/ \b\b- \b\b\\ \b\b| \b\b/ \b\b- \b\b\\ \b\b| \b\b/ \b\b- \b\b\\ \b\b| \b\b/ \b\b- \b\b\\ \b\b| \b\b/ \b\b- \b\b\\ \b\b| \b\b/ \b\b- \b\b\\ \b\b| \b\b/ \b\b- \b\b\\ \b\b| \b\b/ \b\b- \b\b\\ \b\b| \b\b/ \b\b- \b\b\\ \b\b| \b\b/ \b\b- \b\b\\ \b\b| \b\b/ \b\b- \b\b\\ \b\b| \b\b/ \b\b- \b\b\\ \b\bdone\n",
            "\n",
            "\n",
            "==> WARNING: A newer version of conda exists. <==\n",
            "  current version: 4.5.4\n",
            "  latest version: 23.1.0\n",
            "\n",
            "Please update conda by running\n",
            "\n",
            "    $ conda update -n base conda\n",
            "\n",
            "\n",
            "\n",
            "## Package Plan ##\n",
            "\n",
            "  environment location: /usr/local\n",
            "\n",
            "  added / updated specs: \n",
            "    - ipykernel\n",
            "\n",
            "\n",
            "The following packages will be downloaded:\n",
            "\n",
            "    package                    |            build\n",
            "    ---------------------------|-----------------\n",
            "    ipython_genutils-0.2.0     |     pyhd3eb1b0_1          27 KB\n",
            "    pickleshare-0.7.5          |  pyhd3eb1b0_1003          13 KB\n",
            "    libsodium-1.0.18           |       h7b6447c_0         387 KB\n",
            "    jupyter_core-4.8.1         |   py36h06a4308_0          78 KB\n",
            "    parso-0.8.3                |     pyhd3eb1b0_0          69 KB\n",
            "    pexpect-4.8.0              |     pyhd3eb1b0_3          51 KB\n",
            "    prompt-toolkit-3.0.20      |     pyhd3eb1b0_0         254 KB\n",
            "    wcwidth-0.2.5              |     pyhd3eb1b0_0          34 KB\n",
            "    entrypoints-0.3            |           py36_0          12 KB\n",
            "    jupyter_client-7.1.2       |     pyhd3eb1b0_0          90 KB\n",
            "    nest-asyncio-1.5.1         |     pyhd3eb1b0_0           9 KB\n",
            "    ipython-7.16.1             |   py36h5ca1d4c_0         1.1 MB\n",
            "    decorator-5.1.1            |     pyhd3eb1b0_0          12 KB\n",
            "    zeromq-4.3.4               |       h2531618_0         358 KB\n",
            "    jedi-0.17.0                |           py36_0         809 KB\n",
            "    pygments-2.11.2            |     pyhd3eb1b0_0         793 KB\n",
            "    pyzmq-22.2.1               |   py36h295c915_1         519 KB\n",
            "    backcall-0.2.0             |     pyhd3eb1b0_0          13 KB\n",
            "    traitlets-4.3.3            |   py36h06a4308_0         138 KB\n",
            "    ptyprocess-0.7.0           |     pyhd3eb1b0_2          16 KB\n",
            "    ipykernel-5.3.4            |   py36h5ca1d4c_0         176 KB\n",
            "    ------------------------------------------------------------\n",
            "                                           Total:         4.9 MB\n",
            "\n",
            "The following NEW packages will be INSTALLED:\n",
            "\n",
            "    backcall:         0.2.0-pyhd3eb1b0_0   \n",
            "    decorator:        5.1.1-pyhd3eb1b0_0   \n",
            "    entrypoints:      0.3-py36_0           \n",
            "    ipykernel:        5.3.4-py36h5ca1d4c_0 \n",
            "    ipython:          7.16.1-py36h5ca1d4c_0\n",
            "    ipython_genutils: 0.2.0-pyhd3eb1b0_1   \n",
            "    jedi:             0.17.0-py36_0        \n",
            "    jupyter_client:   7.1.2-pyhd3eb1b0_0   \n",
            "    jupyter_core:     4.8.1-py36h06a4308_0 \n",
            "    libsodium:        1.0.18-h7b6447c_0    \n",
            "    nest-asyncio:     1.5.1-pyhd3eb1b0_0   \n",
            "    parso:            0.8.3-pyhd3eb1b0_0   \n",
            "    pexpect:          4.8.0-pyhd3eb1b0_3   \n",
            "    pickleshare:      0.7.5-pyhd3eb1b0_1003\n",
            "    prompt-toolkit:   3.0.20-pyhd3eb1b0_0  \n",
            "    ptyprocess:       0.7.0-pyhd3eb1b0_2   \n",
            "    pygments:         2.11.2-pyhd3eb1b0_0  \n",
            "    pyzmq:            22.2.1-py36h295c915_1\n",
            "    traitlets:        4.3.3-py36h06a4308_0 \n",
            "    wcwidth:          0.2.5-pyhd3eb1b0_0   \n",
            "    zeromq:           4.3.4-h2531618_0     \n",
            "\n",
            "Proceed ([y]/n)? y\n",
            "\n",
            "\n",
            "Downloading and Extracting Packages\n",
            "ipython_genutils-0.2 |   27 KB | : 100% 1.0/1 [00:00<00:00, 21.73it/s]\n",
            "pickleshare-0.7.5    |   13 KB | : 100% 1.0/1 [00:00<00:00, 22.71it/s]\n",
            "libsodium-1.0.18     |  387 KB | : 100% 1.0/1 [00:00<00:00,  4.16it/s]               \n",
            "jupyter_core-4.8.1   |   78 KB | : 100% 1.0/1 [00:00<00:00, 13.36it/s]\n",
            "parso-0.8.3          |   69 KB | : 100% 1.0/1 [00:00<00:00, 20.17it/s]\n",
            "pexpect-4.8.0        |   51 KB | : 100% 1.0/1 [00:00<00:00, 25.15it/s]\n",
            "prompt-toolkit-3.0.2 |  254 KB | : 100% 1.0/1 [00:00<00:00,  8.92it/s]\n",
            "wcwidth-0.2.5        |   34 KB | : 100% 1.0/1 [00:00<00:00, 21.34it/s]\n",
            "entrypoints-0.3      |   12 KB | : 100% 1.0/1 [00:00<00:00, 33.86it/s]\n",
            "jupyter_client-7.1.2 |   90 KB | : 100% 1.0/1 [00:00<00:00, 16.26it/s]\n",
            "nest-asyncio-1.5.1   |    9 KB | : 100% 1.0/1 [00:00<00:00, 29.59it/s]\n",
            "ipython-7.16.1       |  1.1 MB | : 100% 1.0/1 [00:00<00:00,  2.75it/s]               \n",
            "decorator-5.1.1      |   12 KB | : 100% 1.0/1 [00:00<00:00, 30.69it/s]\n",
            "zeromq-4.3.4         |  358 KB | : 100% 1.0/1 [00:00<00:00, 10.39it/s]\n",
            "jedi-0.17.0          |  809 KB | : 100% 1.0/1 [00:00<00:00,  2.10it/s]               \n",
            "pygments-2.11.2      |  793 KB | : 100% 1.0/1 [00:00<00:00,  4.55it/s]               \n",
            "pyzmq-22.2.1         |  519 KB | : 100% 1.0/1 [00:00<00:00,  5.59it/s]               \n",
            "backcall-0.2.0       |   13 KB | : 100% 1.0/1 [00:00<00:00, 33.90it/s]\n",
            "traitlets-4.3.3      |  138 KB | : 100% 1.0/1 [00:00<00:00, 14.88it/s]\n",
            "ptyprocess-0.7.0     |   16 KB | : 100% 1.0/1 [00:00<00:00, 29.33it/s]\n",
            "ipykernel-5.3.4      |  176 KB | : 100% 1.0/1 [00:00<00:00, 10.56it/s]\n",
            "Preparing transaction: / \b\b- \b\bdone\n",
            "Verifying transaction: | \b\b/ \b\b- \b\b\\ \b\b| \b\bdone\n",
            "Executing transaction: - \b\b\\ \b\b| \b\b/ \b\b- \b\b\\ \b\b| \b\b/ \b\b- \b\b\\ \b\b| \b\b/ \b\b- \b\b\\ \b\b| \b\b/ \b\b- \b\b\\ \b\b| \b\b/ \b\b- \b\b\\ \b\b| \b\b/ \b\b- \b\b\\ \b\b| \b\b/ \b\b- \b\b\\ \b\b| \b\b/ \b\b- \b\b\\ \b\b| \b\b/ \b\b- \b\b\\ \b\b| \b\b/ \b\b- \b\b\\ \b\b| \b\b/ \b\b- \b\b\\ \b\b| \b\b/ \b\b- \b\b\\ \b\b| \b\b/ \b\b- \b\b\\ \b\b| \b\b/ \b\b- \b\b\\ \b\b| \b\b/ \b\b- \b\b\\ \b\b| \b\b/ \b\b- \b\b\\ \b\b| \b\b/ \b\b- \b\b\\ \b\b| \b\b/ \b\b- \b\b\\ \b\b| \b\b/ \b\b- \b\b\\ \b\b| \b\b/ \b\b- \b\b\\ \b\b| \b\b/ \b\b- \b\b\\ \b\b| \b\b/ \b\b- \b\b\\ \b\b| \b\b/ \b\b- \b\b\\ \b\b| \b\b/ \b\b- \b\b\\ \b\b| \b\b/ \b\b- \b\b\\ \b\b| \b\b/ \b\b- \b\b\\ \b\b| \b\b/ \b\b- \b\b\\ \b\b| \b\b/ \b\b- \b\b\\ \b\b| \b\b/ \b\b- \b\b\\ \b\b| \b\b/ \b\b- \b\b\\ \b\b| \b\b/ \b\b- \b\b\\ \b\b| \b\b/ \b\b- \b\b\\ \b\b| \b\b/ \b\b- \b\b\\ \b\b| \b\b/ \b\b- \b\b\\ \b\b| \b\b/ \b\b- \b\b\\ \b\b| \b\b/ \b\b- \b\b\\ \b\b| \b\b/ \b\b- \b\b\\ \b\b| \b\b/ \b\b- \b\b\\ \b\b| \b\b/ \b\b- \b\b\\ \b\b| \b\b/ \b\b- \b\b\\ \b\b| \b\b/ \b\b- \b\b\\ \b\b| \b\b/ \b\b- \b\b\\ \b\b| \b\b/ \b\b- \b\b\\ \b\b| \b\b/ \b\b- \b\b\\ \b\b| \b\b/ \b\b- \b\b\\ \b\b| \b\b/ \b\b- \b\b\\ \b\b| \b\b/ \b\b- \b\b\\ \b\b| \b\b/ \b\b- \b\b\\ \b\b| \b\b/ \b\b- \b\b\\ \b\b| \b\b/ \b\b- \b\b\\ \b\b| \b\b/ \b\b- \b\b\\ \b\b| \b\b/ \b\b- \b\b\\ \b\b| \b\b/ \b\b- \b\b\\ \b\b| \b\b/ \b\b- \b\b\\ \b\b| \b\b/ \b\b- \b\b\\ \b\b| \b\b/ \b\b- \b\b\\ \b\b| \b\b/ \b\b- \b\b\\ \b\b| \b\b/ \b\b- \b\b\\ \b\b| \b\b/ \b\b- \b\b\\ \b\b| \b\b/ \b\b- \b\b\\ \b\b| \b\b/ \b\b- \b\b\\ \b\b| \b\b/ \b\b- \b\b\\ \b\b| \b\b/ \b\b- \b\b\\ \b\b| \b\b/ \b\b- \b\b\\ \b\b| \b\b/ \b\b- \b\b\\ \b\b| \b\b/ \b\b- \b\b\\ \b\b| \b\b/ \b\bdone\n"
          ]
        }
      ],
      "source": [
        "!conda install ipykernel"
      ]
    },
    {
      "cell_type": "code",
      "execution_count": 15,
      "metadata": {
        "colab": {
          "base_uri": "https://localhost:8080/"
        },
        "id": "2QfViuewPHqU",
        "outputId": "61a55dc4-2d98-4a97-a67e-9f7dc0c24010"
      },
      "outputs": [
        {
          "name": "stdout",
          "output_type": "stream",
          "text": [
            "/content/drive/MyDrive/Scene Graph Generator/RelTR/lib/fpn/box_intersections_cpu\n"
          ]
        }
      ],
      "source": [
        "%cd lib/fpn/box_intersections_cpu"
      ]
    },
    {
      "cell_type": "code",
      "execution_count": 16,
      "metadata": {
        "colab": {
          "base_uri": "https://localhost:8080/"
        },
        "id": "HUhjBmslQ7xO",
        "outputId": "b08947bb-3188-4d04-fc16-20d204ca8d1f"
      },
      "outputs": [
        {
          "name": "stdout",
          "output_type": "stream",
          "text": [
            "Compiling bbox.pyx because it depends on /usr/local/lib/python3.6/site-packages/Cython/Includes/cpython/buffer.pxd.\n",
            "[1/1] Cythonizing bbox.pyx\n",
            "/usr/local/lib/python3.6/site-packages/Cython/Compiler/Main.py:369: FutureWarning: Cython directive 'language_level' not set, using 2 for now (Py2). This will change in a later release! File: /content/drive/MyDrive/Scene Graph Generator/RelTR/lib/fpn/box_intersections_cpu/bbox.pyx\n",
            "  tree = Parsing.p_module(s, pxd, full_module_name)\n",
            "running build_ext\n",
            "building 'bbox' extension\n",
            "gcc -pthread -B /usr/local/compiler_compat -Wl,--sysroot=/ -Wsign-compare -DNDEBUG -g -fwrapv -O3 -Wall -Wstrict-prototypes -fPIC -I/usr/local/lib/python3.6/site-packages/numpy/core/include -I/usr/local/include/python3.6m -c bbox.c -o build/temp.linux-x86_64-3.6/bbox.o\n",
            "In file included from \u001b[01m\u001b[K/usr/local/lib/python3.6/site-packages/numpy/core/include/numpy/ndarraytypes.h:1822\u001b[m\u001b[K,\n",
            "                 from \u001b[01m\u001b[K/usr/local/lib/python3.6/site-packages/numpy/core/include/numpy/ndarrayobject.h:12\u001b[m\u001b[K,\n",
            "                 from \u001b[01m\u001b[K/usr/local/lib/python3.6/site-packages/numpy/core/include/numpy/arrayobject.h:4\u001b[m\u001b[K,\n",
            "                 from \u001b[01m\u001b[Kbbox.c:759\u001b[m\u001b[K:\n",
            "\u001b[01m\u001b[K/usr/local/lib/python3.6/site-packages/numpy/core/include/numpy/npy_1_7_deprecated_api.h:17:2:\u001b[m\u001b[K \u001b[01;35m\u001b[Kwarning: \u001b[m\u001b[K#warning \"Using deprecated NumPy API, disable it with \" \"#define NPY_NO_DEPRECATED_API NPY_1_7_API_VERSION\" [\u001b[01;35m\u001b[K-Wcpp\u001b[m\u001b[K]\n",
            "   17 | #\u001b[01;35m\u001b[Kwarning\u001b[m\u001b[K \"Using deprecated NumPy API, disable it with \" \\\n",
            "      |  \u001b[01;35m\u001b[K^~~~~~~\u001b[m\u001b[K\n",
            "gcc -pthread -shared -B /usr/local/compiler_compat -L/usr/local/lib -Wl,-rpath=/usr/local/lib -Wl,--no-as-needed -Wl,--sysroot=/ build/temp.linux-x86_64-3.6/bbox.o -o /content/drive/MyDrive/Scene Graph Generator/RelTR/lib/fpn/box_intersections_cpu/bbox.cpython-36m-x86_64-linux-gnu.so\n",
            "running build_ext\n",
            "building 'bbox' extension\n",
            "gcc -pthread -B /usr/local/compiler_compat -Wl,--sysroot=/ -Wsign-compare -DNDEBUG -g -fwrapv -O3 -Wall -Wstrict-prototypes -fPIC -I/usr/local/lib/python3.6/site-packages/numpy/core/include -I/usr/local/include/python3.6m -c bbox.c -o build/temp.linux-x86_64-3.6/bbox.o\n",
            "In file included from \u001b[01m\u001b[K/usr/local/lib/python3.6/site-packages/numpy/core/include/numpy/ndarraytypes.h:1822\u001b[m\u001b[K,\n",
            "                 from \u001b[01m\u001b[K/usr/local/lib/python3.6/site-packages/numpy/core/include/numpy/ndarrayobject.h:12\u001b[m\u001b[K,\n",
            "                 from \u001b[01m\u001b[K/usr/local/lib/python3.6/site-packages/numpy/core/include/numpy/arrayobject.h:4\u001b[m\u001b[K,\n",
            "                 from \u001b[01m\u001b[Kbbox.c:759\u001b[m\u001b[K:\n",
            "\u001b[01m\u001b[K/usr/local/lib/python3.6/site-packages/numpy/core/include/numpy/npy_1_7_deprecated_api.h:17:2:\u001b[m\u001b[K \u001b[01;35m\u001b[Kwarning: \u001b[m\u001b[K#warning \"Using deprecated NumPy API, disable it with \" \"#define NPY_NO_DEPRECATED_API NPY_1_7_API_VERSION\" [\u001b[01;35m\u001b[K-Wcpp\u001b[m\u001b[K]\n",
            "   17 | #\u001b[01;35m\u001b[Kwarning\u001b[m\u001b[K \"Using deprecated NumPy API, disable it with \" \\\n",
            "      |  \u001b[01;35m\u001b[K^~~~~~~\u001b[m\u001b[K\n",
            "gcc -pthread -shared -B /usr/local/compiler_compat -L/usr/local/lib -Wl,-rpath=/usr/local/lib -Wl,--no-as-needed -Wl,--sysroot=/ build/temp.linux-x86_64-3.6/bbox.o -o build/lib.linux-x86_64-3.6/bbox.cpython-36m-x86_64-linux-gnu.so\n",
            "running install\n",
            "running build\n",
            "running install_lib\n",
            "copying build/lib.linux-x86_64-3.6/bbox.cpython-36m-x86_64-linux-gnu.so -> /usr/local/lib/python3.6/site-packages\n",
            "running install_egg_info\n",
            "Writing /usr/local/lib/python3.6/site-packages/bbox_cython-0.0.0-py3.6.egg-info\n"
          ]
        }
      ],
      "source": [
        "!python setup.py build_ext --inplace\n",
        "!python setup.py build_ext install"
      ]
    },
    {
      "cell_type": "code",
      "execution_count": null,
      "metadata": {
        "colab": {
          "base_uri": "https://localhost:8080/"
        },
        "id": "CRKMpkDvQmUZ",
        "outputId": "500da086-8388-4c7d-af4a-ecaf15d74b30"
      },
      "outputs": [
        {
          "name": "stdout",
          "output_type": "stream",
          "text": [
            "make.sh: 2: \r: not found\n",
            "make.sh: 3: cd: can't cd to box_intersections_cpu\r\n",
            "python: can't open file 'setup.py': [Errno 2] No such file or directory\n"
          ]
        }
      ],
      "source": [
        "# !sh make.sh"
      ]
    },
    {
      "cell_type": "code",
      "execution_count": 17,
      "metadata": {
        "colab": {
          "base_uri": "https://localhost:8080/"
        },
        "id": "H3iE3ntkPSq_",
        "outputId": "6056ca0d-6eca-4147-f511-0b7a53c39db2"
      },
      "outputs": [
        {
          "name": "stdout",
          "output_type": "stream",
          "text": [
            "/content/drive/MyDrive/Scene Graph Generator/RelTR\n"
          ]
        }
      ],
      "source": [
        "%cd /content/drive/MyDrive/Scene Graph Generator/RelTR\n"
      ]
    },
    {
      "cell_type": "code",
      "execution_count": 18,
      "metadata": {
        "colab": {
          "base_uri": "https://localhost:8080/"
        },
        "id": "e62B4fs3-5_8",
        "outputId": "98248719-a342-4e19-e40b-5aabc5025c72"
      },
      "outputs": [
        {
          "name": "stdout",
          "output_type": "stream",
          "text": [
            "Not using distributed mode\n",
            "git:\n",
            "  sha: 4c9557165e8a8d9c90ca263aa9d2be82f70c1ace, status: has uncommited changes, branch: main\n",
            "\n",
            "Namespace(ann_path='./data/vg/', aux_loss=True, backbone='resnet50', batch_size=2, bbox_loss_coef=5, clip_max_norm=0.1, dataset='vg', dec_layers=6, device='cuda', dilation=False, dim_feedforward=2048, dist_url='env://', distributed=False, dropout=0.1, enc_layers=6, eos_coef=0.1, epochs=150, eval=False, frozen_weights=None, giou_loss_coef=2, hidden_dim=256, img_folder='data/vg/images/', lr=0.0001, lr_backbone=1e-05, lr_drop=100, nheads=8, num_entities=100, num_triplets=200, num_workers=2, output_dir='ckpt', position_embedding='sine', pre_norm=False, rel_loss_coef=1, resume='', return_interm_layers=False, seed=42, set_cost_bbox=5, set_cost_class=1, set_cost_giou=2, set_iou_threshold=0.7, start_epoch=0, weight_decay=0.0001, world_size=1)\n",
            "Downloading: \"https://download.pytorch.org/models/resnet50-19c8e357.pth\" to /root/.cache/torch/hub/checkpoints/resnet50-19c8e357.pth\n",
            "100.0%\n",
            "number of params: 63679528\n",
            "loading annotations into memory...\n",
            "Done (t=0.65s)\n",
            "creating index...\n",
            "index created!\n",
            "loading annotations into memory...\n",
            "Done (t=0.28s)\n",
            "creating index...\n",
            "index created!\n",
            "Start training\n",
            "Epoch: [0]  [ 0/68]  eta: 0:03:02  lr: 0.000100  class_error: 94.44  sub_error: 100.00  obj_error: 80.00  rel_error: 100.00  loss: 89.7147 (89.7147)  loss_ce: 3.0419 (3.0419)  loss_bbox: 5.4629 (5.4629)  loss_giou: 2.3088 (2.3088)  loss_rel: 4.1531 (4.1531)  loss_ce_0: 3.2550 (3.2550)  loss_bbox_0: 5.3146 (5.3146)  loss_giou_0: 2.2699 (2.2699)  loss_rel_0: 4.0102 (4.0102)  loss_ce_1: 3.2648 (3.2648)  loss_bbox_1: 5.3349 (5.3349)  loss_giou_1: 2.2851 (2.2851)  loss_rel_1: 4.1710 (4.1710)  loss_ce_2: 3.1796 (3.1796)  loss_bbox_2: 5.2746 (5.2746)  loss_giou_2: 2.2864 (2.2864)  loss_rel_2: 4.1261 (4.1261)  loss_ce_3: 3.2323 (3.2323)  loss_bbox_3: 5.3319 (5.3319)  loss_giou_3: 2.2751 (2.2751)  loss_rel_3: 4.2291 (4.2291)  loss_ce_4: 3.1473 (3.1473)  loss_bbox_4: 5.3330 (5.3330)  loss_giou_4: 2.2871 (2.2871)  loss_rel_4: 4.1400 (4.1400)  loss_ce_unscaled: 3.0419 (3.0419)  class_error_unscaled: 94.4444 (94.4444)  sub_error_unscaled: 100.0000 (100.0000)  obj_error_unscaled: 80.0000 (80.0000)  loss_bbox_unscaled: 1.0926 (1.0926)  loss_giou_unscaled: 1.1544 (1.1544)  cardinality_error_unscaled: 197.5000 (197.5000)  loss_rel_unscaled: 4.1531 (4.1531)  rel_error_unscaled: 100.0000 (100.0000)  loss_ce_0_unscaled: 3.2550 (3.2550)  loss_bbox_0_unscaled: 1.0629 (1.0629)  loss_giou_0_unscaled: 1.1349 (1.1349)  cardinality_error_0_unscaled: 197.5000 (197.5000)  loss_rel_0_unscaled: 4.0102 (4.0102)  loss_ce_1_unscaled: 3.2648 (3.2648)  loss_bbox_1_unscaled: 1.0670 (1.0670)  loss_giou_1_unscaled: 1.1426 (1.1426)  cardinality_error_1_unscaled: 197.5000 (197.5000)  loss_rel_1_unscaled: 4.1710 (4.1710)  loss_ce_2_unscaled: 3.1796 (3.1796)  loss_bbox_2_unscaled: 1.0549 (1.0549)  loss_giou_2_unscaled: 1.1432 (1.1432)  cardinality_error_2_unscaled: 197.5000 (197.5000)  loss_rel_2_unscaled: 4.1261 (4.1261)  loss_ce_3_unscaled: 3.2323 (3.2323)  loss_bbox_3_unscaled: 1.0664 (1.0664)  loss_giou_3_unscaled: 1.1375 (1.1375)  cardinality_error_3_unscaled: 197.5000 (197.5000)  loss_rel_3_unscaled: 4.2291 (4.2291)  loss_ce_4_unscaled: 3.1473 (3.1473)  loss_bbox_4_unscaled: 1.0666 (1.0666)  loss_giou_4_unscaled: 1.1436 (1.1436)  cardinality_error_4_unscaled: 197.5000 (197.5000)  loss_rel_4_unscaled: 4.1400 (4.1400)  time: 2.6821  data: 1.0152  max mem: 4060\n",
            "Epoch: [0]  [67/68]  eta: 0:00:00  lr: 0.000100  class_error: 100.00  sub_error: 100.00  obj_error: 100.00  rel_error: 100.00  loss: 52.6605 (63.3136)  loss_ce: 1.5314 (1.6371)  loss_bbox: 3.7996 (4.8273)  loss_giou: 2.8348 (2.9563)  loss_rel: 0.8409 (1.3432)  loss_ce_0: 1.5768 (1.7408)  loss_bbox_0: 3.4312 (4.5586)  loss_giou_0: 2.4336 (2.7202)  loss_rel_0: 0.8323 (1.4350)  loss_ce_1: 1.5460 (1.6509)  loss_bbox_1: 3.4403 (4.5905)  loss_giou_1: 2.4717 (2.7730)  loss_rel_1: 0.8326 (1.3778)  loss_ce_2: 1.6126 (1.6607)  loss_bbox_2: 3.4386 (4.6414)  loss_giou_2: 2.4743 (2.8403)  loss_rel_2: 0.8418 (1.3558)  loss_ce_3: 1.5670 (1.6403)  loss_bbox_3: 3.5322 (4.7056)  loss_giou_3: 2.5421 (2.8844)  loss_rel_3: 0.8419 (1.3401)  loss_ce_4: 1.5437 (1.6327)  loss_bbox_4: 3.5920 (4.7581)  loss_giou_4: 2.6075 (2.9223)  loss_rel_4: 0.8336 (1.3215)  loss_ce_unscaled: 1.5314 (1.6371)  class_error_unscaled: 100.0000 (99.7904)  sub_error_unscaled: 100.0000 (100.0000)  obj_error_unscaled: 100.0000 (99.7059)  loss_bbox_unscaled: 0.7599 (0.9655)  loss_giou_unscaled: 1.4174 (1.4782)  cardinality_error_unscaled: 4.5000 (10.4044)  loss_rel_unscaled: 0.8409 (1.3432)  rel_error_unscaled: 100.0000 (99.8663)  loss_ce_0_unscaled: 1.5768 (1.7408)  loss_bbox_0_unscaled: 0.6862 (0.9117)  loss_giou_0_unscaled: 1.2168 (1.3601)  cardinality_error_0_unscaled: 4.5000 (11.2941)  loss_rel_0_unscaled: 0.8323 (1.4350)  loss_ce_1_unscaled: 1.5460 (1.6509)  loss_bbox_1_unscaled: 0.6881 (0.9181)  loss_giou_1_unscaled: 1.2359 (1.3865)  cardinality_error_1_unscaled: 4.5000 (11.3382)  loss_rel_1_unscaled: 0.8326 (1.3778)  loss_ce_2_unscaled: 1.6126 (1.6607)  loss_bbox_2_unscaled: 0.6877 (0.9283)  loss_giou_2_unscaled: 1.2371 (1.4201)  cardinality_error_2_unscaled: 4.5000 (9.5221)  loss_rel_2_unscaled: 0.8418 (1.3558)  loss_ce_3_unscaled: 1.5670 (1.6403)  loss_bbox_3_unscaled: 0.7064 (0.9411)  loss_giou_3_unscaled: 1.2711 (1.4422)  cardinality_error_3_unscaled: 4.5000 (10.2206)  loss_rel_3_unscaled: 0.8419 (1.3401)  loss_ce_4_unscaled: 1.5437 (1.6327)  loss_bbox_4_unscaled: 0.7184 (0.9516)  loss_giou_4_unscaled: 1.3038 (1.4612)  cardinality_error_4_unscaled: 4.5000 (9.0074)  loss_rel_4_unscaled: 0.8336 (1.3215)  time: 0.5934  data: 0.0114  max mem: 7378\n",
            "Epoch: [0] Total time: 0:00:41 (0.6150 s / it)\n",
            "Averaged stats: lr: 0.000100  class_error: 100.00  sub_error: 100.00  obj_error: 100.00  rel_error: 100.00  loss: 52.6605 (63.3136)  loss_ce: 1.5314 (1.6371)  loss_bbox: 3.7996 (4.8273)  loss_giou: 2.8348 (2.9563)  loss_rel: 0.8409 (1.3432)  loss_ce_0: 1.5768 (1.7408)  loss_bbox_0: 3.4312 (4.5586)  loss_giou_0: 2.4336 (2.7202)  loss_rel_0: 0.8323 (1.4350)  loss_ce_1: 1.5460 (1.6509)  loss_bbox_1: 3.4403 (4.5905)  loss_giou_1: 2.4717 (2.7730)  loss_rel_1: 0.8326 (1.3778)  loss_ce_2: 1.6126 (1.6607)  loss_bbox_2: 3.4386 (4.6414)  loss_giou_2: 2.4743 (2.8403)  loss_rel_2: 0.8418 (1.3558)  loss_ce_3: 1.5670 (1.6403)  loss_bbox_3: 3.5322 (4.7056)  loss_giou_3: 2.5421 (2.8844)  loss_rel_3: 0.8419 (1.3401)  loss_ce_4: 1.5437 (1.6327)  loss_bbox_4: 3.5920 (4.7581)  loss_giou_4: 2.6075 (2.9223)  loss_rel_4: 0.8336 (1.3215)  loss_ce_unscaled: 1.5314 (1.6371)  class_error_unscaled: 100.0000 (99.7904)  sub_error_unscaled: 100.0000 (100.0000)  obj_error_unscaled: 100.0000 (99.7059)  loss_bbox_unscaled: 0.7599 (0.9655)  loss_giou_unscaled: 1.4174 (1.4782)  cardinality_error_unscaled: 4.5000 (10.4044)  loss_rel_unscaled: 0.8409 (1.3432)  rel_error_unscaled: 100.0000 (99.8663)  loss_ce_0_unscaled: 1.5768 (1.7408)  loss_bbox_0_unscaled: 0.6862 (0.9117)  loss_giou_0_unscaled: 1.2168 (1.3601)  cardinality_error_0_unscaled: 4.5000 (11.2941)  loss_rel_0_unscaled: 0.8323 (1.4350)  loss_ce_1_unscaled: 1.5460 (1.6509)  loss_bbox_1_unscaled: 0.6881 (0.9181)  loss_giou_1_unscaled: 1.2359 (1.3865)  cardinality_error_1_unscaled: 4.5000 (11.3382)  loss_rel_1_unscaled: 0.8326 (1.3778)  loss_ce_2_unscaled: 1.6126 (1.6607)  loss_bbox_2_unscaled: 0.6877 (0.9283)  loss_giou_2_unscaled: 1.2371 (1.4201)  cardinality_error_2_unscaled: 4.5000 (9.5221)  loss_rel_2_unscaled: 0.8418 (1.3558)  loss_ce_3_unscaled: 1.5670 (1.6403)  loss_bbox_3_unscaled: 0.7064 (0.9411)  loss_giou_3_unscaled: 1.2711 (1.4422)  cardinality_error_3_unscaled: 4.5000 (10.2206)  loss_rel_3_unscaled: 0.8419 (1.3401)  loss_ce_4_unscaled: 1.5437 (1.6327)  loss_bbox_4_unscaled: 0.7184 (0.9516)  loss_giou_4_unscaled: 1.3038 (1.4612)  cardinality_error_4_unscaled: 4.5000 (9.0074)  loss_rel_4_unscaled: 0.8336 (1.3215)\n",
            "Test:  [ 0/43]  eta: 0:00:51  class_error: 100.00  sub_error: 100.00  obj_error: 100.00  rel_error: 100.00  loss: 68.5389 (68.5389)  loss_ce: 2.0566 (2.0566)  loss_bbox: 4.5669 (4.5669)  loss_giou: 2.8840 (2.8840)  loss_rel: 2.0983 (2.0983)  loss_ce_0: 2.1051 (2.1051)  loss_bbox_0: 4.2706 (4.2706)  loss_giou_0: 2.8030 (2.8030)  loss_rel_0: 2.0644 (2.0644)  loss_ce_1: 2.1347 (2.1347)  loss_bbox_1: 4.2924 (4.2924)  loss_giou_1: 2.7841 (2.7841)  loss_rel_1: 2.0714 (2.0714)  loss_ce_2: 2.1840 (2.1840)  loss_bbox_2: 4.3380 (4.3380)  loss_giou_2: 2.7982 (2.7982)  loss_rel_2: 2.0755 (2.0755)  loss_ce_3: 2.1267 (2.1267)  loss_bbox_3: 4.4285 (4.4285)  loss_giou_3: 2.8399 (2.8399)  loss_rel_3: 2.0891 (2.0891)  loss_ce_4: 2.0995 (2.0995)  loss_bbox_4: 4.4960 (4.4960)  loss_giou_4: 2.8550 (2.8550)  loss_rel_4: 2.0771 (2.0771)  loss_ce_unscaled: 2.0566 (2.0566)  class_error_unscaled: 100.0000 (100.0000)  sub_error_unscaled: 100.0000 (100.0000)  obj_error_unscaled: 100.0000 (100.0000)  loss_bbox_unscaled: 0.9134 (0.9134)  loss_giou_unscaled: 1.4420 (1.4420)  cardinality_error_unscaled: 15.5000 (15.5000)  loss_rel_unscaled: 2.0983 (2.0983)  rel_error_unscaled: 100.0000 (100.0000)  loss_ce_0_unscaled: 2.1051 (2.1051)  loss_bbox_0_unscaled: 0.8541 (0.8541)  loss_giou_0_unscaled: 1.4015 (1.4015)  cardinality_error_0_unscaled: 15.5000 (15.5000)  loss_rel_0_unscaled: 2.0644 (2.0644)  loss_ce_1_unscaled: 2.1347 (2.1347)  loss_bbox_1_unscaled: 0.8585 (0.8585)  loss_giou_1_unscaled: 1.3921 (1.3921)  cardinality_error_1_unscaled: 15.5000 (15.5000)  loss_rel_1_unscaled: 2.0714 (2.0714)  loss_ce_2_unscaled: 2.1840 (2.1840)  loss_bbox_2_unscaled: 0.8676 (0.8676)  loss_giou_2_unscaled: 1.3991 (1.3991)  cardinality_error_2_unscaled: 15.5000 (15.5000)  loss_rel_2_unscaled: 2.0755 (2.0755)  loss_ce_3_unscaled: 2.1267 (2.1267)  loss_bbox_3_unscaled: 0.8857 (0.8857)  loss_giou_3_unscaled: 1.4199 (1.4199)  cardinality_error_3_unscaled: 15.5000 (15.5000)  loss_rel_3_unscaled: 2.0891 (2.0891)  loss_ce_4_unscaled: 2.0995 (2.0995)  loss_bbox_4_unscaled: 0.8992 (0.8992)  loss_giou_4_unscaled: 1.4275 (1.4275)  cardinality_error_4_unscaled: 15.5000 (15.5000)  loss_rel_4_unscaled: 2.0771 (2.0771)  time: 1.1935  data: 0.7916  max mem: 7378\n",
            "Test:  [42/43]  eta: 0:00:00  class_error: 100.00  sub_error: 100.00  obj_error: 100.00  rel_error: 100.00  loss: 54.0029 (56.1388)  loss_ce: 1.7282 (1.6207)  loss_bbox: 3.7229 (4.0201)  loss_giou: 2.7223 (2.7882)  loss_rel: 1.3429 (1.3640)  loss_ce_0: 1.7027 (1.6124)  loss_bbox_0: 3.3698 (3.6211)  loss_giou_0: 2.5149 (2.5812)  loss_rel_0: 1.2741 (1.2851)  loss_ce_1: 1.7659 (1.6177)  loss_bbox_1: 3.4056 (3.6407)  loss_giou_1: 2.5191 (2.5682)  loss_rel_1: 1.2750 (1.2922)  loss_ce_2: 1.7637 (1.6269)  loss_bbox_2: 3.4512 (3.6786)  loss_giou_2: 2.5361 (2.5846)  loss_rel_2: 1.2782 (1.2930)  loss_ce_3: 1.7473 (1.6238)  loss_bbox_3: 3.5389 (3.7876)  loss_giou_3: 2.5762 (2.6465)  loss_rel_3: 1.3061 (1.3371)  loss_ce_4: 1.7518 (1.6323)  loss_bbox_4: 3.6288 (3.9038)  loss_giou_4: 2.6562 (2.7017)  loss_rel_4: 1.2915 (1.3114)  loss_ce_unscaled: 1.7282 (1.6207)  class_error_unscaled: 100.0000 (100.0000)  sub_error_unscaled: 100.0000 (100.0000)  obj_error_unscaled: 100.0000 (100.0000)  loss_bbox_unscaled: 0.7446 (0.8040)  loss_giou_unscaled: 1.3611 (1.3941)  cardinality_error_unscaled: 6.0000 (6.3605)  loss_rel_unscaled: 1.3429 (1.3640)  rel_error_unscaled: 100.0000 (100.0000)  loss_ce_0_unscaled: 1.7027 (1.6124)  loss_bbox_0_unscaled: 0.6740 (0.7242)  loss_giou_0_unscaled: 1.2574 (1.2906)  cardinality_error_0_unscaled: 6.0000 (6.3605)  loss_rel_0_unscaled: 1.2741 (1.2851)  loss_ce_1_unscaled: 1.7659 (1.6177)  loss_bbox_1_unscaled: 0.6811 (0.7281)  loss_giou_1_unscaled: 1.2596 (1.2841)  cardinality_error_1_unscaled: 6.0000 (6.3605)  loss_rel_1_unscaled: 1.2750 (1.2922)  loss_ce_2_unscaled: 1.7637 (1.6269)  loss_bbox_2_unscaled: 0.6902 (0.7357)  loss_giou_2_unscaled: 1.2681 (1.2923)  cardinality_error_2_unscaled: 6.0000 (6.3605)  loss_rel_2_unscaled: 1.2782 (1.2930)  loss_ce_3_unscaled: 1.7473 (1.6238)  loss_bbox_3_unscaled: 0.7078 (0.7575)  loss_giou_3_unscaled: 1.2881 (1.3233)  cardinality_error_3_unscaled: 6.0000 (6.3605)  loss_rel_3_unscaled: 1.3061 (1.3371)  loss_ce_4_unscaled: 1.7518 (1.6323)  loss_bbox_4_unscaled: 0.7258 (0.7808)  loss_giou_4_unscaled: 1.3281 (1.3509)  cardinality_error_4_unscaled: 6.0000 (6.3605)  loss_rel_4_unscaled: 1.2915 (1.3114)  time: 0.4009  data: 0.0485  max mem: 7378\n",
            "Test: Total time: 0:00:19 (0.4456 s / it)\n",
            "======================sgdet============================\n",
            "R@20: 0.000000\n",
            "R@50: 0.000000\n",
            "R@100: 0.000000\n",
            "Averaged stats: class_error: 100.00  sub_error: 100.00  obj_error: 100.00  rel_error: 100.00  loss: 54.0029 (56.1388)  loss_ce: 1.7282 (1.6207)  loss_bbox: 3.7229 (4.0201)  loss_giou: 2.7223 (2.7882)  loss_rel: 1.3429 (1.3640)  loss_ce_0: 1.7027 (1.6124)  loss_bbox_0: 3.3698 (3.6211)  loss_giou_0: 2.5149 (2.5812)  loss_rel_0: 1.2741 (1.2851)  loss_ce_1: 1.7659 (1.6177)  loss_bbox_1: 3.4056 (3.6407)  loss_giou_1: 2.5191 (2.5682)  loss_rel_1: 1.2750 (1.2922)  loss_ce_2: 1.7637 (1.6269)  loss_bbox_2: 3.4512 (3.6786)  loss_giou_2: 2.5361 (2.5846)  loss_rel_2: 1.2782 (1.2930)  loss_ce_3: 1.7473 (1.6238)  loss_bbox_3: 3.5389 (3.7876)  loss_giou_3: 2.5762 (2.6465)  loss_rel_3: 1.3061 (1.3371)  loss_ce_4: 1.7518 (1.6323)  loss_bbox_4: 3.6288 (3.9038)  loss_giou_4: 2.6562 (2.7017)  loss_rel_4: 1.2915 (1.3114)  loss_ce_unscaled: 1.7282 (1.6207)  class_error_unscaled: 100.0000 (100.0000)  sub_error_unscaled: 100.0000 (100.0000)  obj_error_unscaled: 100.0000 (100.0000)  loss_bbox_unscaled: 0.7446 (0.8040)  loss_giou_unscaled: 1.3611 (1.3941)  cardinality_error_unscaled: 6.0000 (6.3605)  loss_rel_unscaled: 1.3429 (1.3640)  rel_error_unscaled: 100.0000 (100.0000)  loss_ce_0_unscaled: 1.7027 (1.6124)  loss_bbox_0_unscaled: 0.6740 (0.7242)  loss_giou_0_unscaled: 1.2574 (1.2906)  cardinality_error_0_unscaled: 6.0000 (6.3605)  loss_rel_0_unscaled: 1.2741 (1.2851)  loss_ce_1_unscaled: 1.7659 (1.6177)  loss_bbox_1_unscaled: 0.6811 (0.7281)  loss_giou_1_unscaled: 1.2596 (1.2841)  cardinality_error_1_unscaled: 6.0000 (6.3605)  loss_rel_1_unscaled: 1.2750 (1.2922)  loss_ce_2_unscaled: 1.7637 (1.6269)  loss_bbox_2_unscaled: 0.6902 (0.7357)  loss_giou_2_unscaled: 1.2681 (1.2923)  cardinality_error_2_unscaled: 6.0000 (6.3605)  loss_rel_2_unscaled: 1.2782 (1.2930)  loss_ce_3_unscaled: 1.7473 (1.6238)  loss_bbox_3_unscaled: 0.7078 (0.7575)  loss_giou_3_unscaled: 1.2881 (1.3233)  cardinality_error_3_unscaled: 6.0000 (6.3605)  loss_rel_3_unscaled: 1.3061 (1.3371)  loss_ce_4_unscaled: 1.7518 (1.6323)  loss_bbox_4_unscaled: 0.7258 (0.7808)  loss_giou_4_unscaled: 1.3281 (1.3509)  cardinality_error_4_unscaled: 6.0000 (6.3605)  loss_rel_4_unscaled: 1.2915 (1.3114)\n",
            "Accumulating evaluation results...\n",
            "DONE (t=0.38s).\n",
            "IoU metric: bbox\n",
            " Average Precision  (AP) @[ IoU=0.50:0.95 | area=   all | maxDets=100 ] = 0.000\n",
            " Average Precision  (AP) @[ IoU=0.50      | area=   all | maxDets=100 ] = 0.000\n",
            " Average Precision  (AP) @[ IoU=0.75      | area=   all | maxDets=100 ] = 0.000\n",
            " Average Precision  (AP) @[ IoU=0.50:0.95 | area= small | maxDets=100 ] = 0.000\n",
            " Average Precision  (AP) @[ IoU=0.50:0.95 | area=medium | maxDets=100 ] = 0.000\n",
            " Average Precision  (AP) @[ IoU=0.50:0.95 | area= large | maxDets=100 ] = 0.000\n",
            " Average Recall     (AR) @[ IoU=0.50:0.95 | area=   all | maxDets=  1 ] = 0.000\n",
            " Average Recall     (AR) @[ IoU=0.50:0.95 | area=   all | maxDets= 10 ] = 0.000\n",
            " Average Recall     (AR) @[ IoU=0.50:0.95 | area=   all | maxDets=100 ] = 0.001\n",
            " Average Recall     (AR) @[ IoU=0.50:0.95 | area= small | maxDets=100 ] = 0.000\n",
            " Average Recall     (AR) @[ IoU=0.50:0.95 | area=medium | maxDets=100 ] = 0.000\n",
            " Average Recall     (AR) @[ IoU=0.50:0.95 | area= large | maxDets=100 ] = 0.002\n",
            "Epoch: [1]  [ 0/68]  eta: 0:00:58  lr: 0.000100  class_error: 100.00  sub_error: 100.00  obj_error: 100.00  rel_error: 100.00  loss: 52.4624 (52.4624)  loss_ce: 1.9579 (1.9579)  loss_bbox: 3.7332 (3.7332)  loss_giou: 2.4552 (2.4552)  loss_rel: 1.0062 (1.0062)  loss_ce_0: 1.9205 (1.9205)  loss_bbox_0: 3.4206 (3.4206)  loss_giou_0: 2.2851 (2.2851)  loss_rel_0: 1.0233 (1.0233)  loss_ce_1: 1.9396 (1.9396)  loss_bbox_1: 3.3535 (3.3535)  loss_giou_1: 2.2165 (2.2165)  loss_rel_1: 1.0085 (1.0085)  loss_ce_2: 1.9511 (1.9511)  loss_bbox_2: 3.3823 (3.3823)  loss_giou_2: 2.2255 (2.2255)  loss_rel_2: 1.0204 (1.0204)  loss_ce_3: 1.9524 (1.9524)  loss_bbox_3: 3.4427 (3.4427)  loss_giou_3: 2.3162 (2.3162)  loss_rel_3: 1.0147 (1.0147)  loss_ce_4: 1.9738 (1.9738)  loss_bbox_4: 3.5200 (3.5200)  loss_giou_4: 2.3236 (2.3236)  loss_rel_4: 1.0196 (1.0196)  loss_ce_unscaled: 1.9579 (1.9579)  class_error_unscaled: 100.0000 (100.0000)  sub_error_unscaled: 100.0000 (100.0000)  obj_error_unscaled: 100.0000 (100.0000)  loss_bbox_unscaled: 0.7466 (0.7466)  loss_giou_unscaled: 1.2276 (1.2276)  cardinality_error_unscaled: 5.0000 (5.0000)  loss_rel_unscaled: 1.0062 (1.0062)  rel_error_unscaled: 100.0000 (100.0000)  loss_ce_0_unscaled: 1.9205 (1.9205)  loss_bbox_0_unscaled: 0.6841 (0.6841)  loss_giou_0_unscaled: 1.1425 (1.1425)  cardinality_error_0_unscaled: 5.0000 (5.0000)  loss_rel_0_unscaled: 1.0233 (1.0233)  loss_ce_1_unscaled: 1.9396 (1.9396)  loss_bbox_1_unscaled: 0.6707 (0.6707)  loss_giou_1_unscaled: 1.1082 (1.1082)  cardinality_error_1_unscaled: 5.0000 (5.0000)  loss_rel_1_unscaled: 1.0085 (1.0085)  loss_ce_2_unscaled: 1.9511 (1.9511)  loss_bbox_2_unscaled: 0.6765 (0.6765)  loss_giou_2_unscaled: 1.1127 (1.1127)  cardinality_error_2_unscaled: 5.0000 (5.0000)  loss_rel_2_unscaled: 1.0204 (1.0204)  loss_ce_3_unscaled: 1.9524 (1.9524)  loss_bbox_3_unscaled: 0.6885 (0.6885)  loss_giou_3_unscaled: 1.1581 (1.1581)  cardinality_error_3_unscaled: 5.0000 (5.0000)  loss_rel_3_unscaled: 1.0147 (1.0147)  loss_ce_4_unscaled: 1.9738 (1.9738)  loss_bbox_4_unscaled: 0.7040 (0.7040)  loss_giou_4_unscaled: 1.1618 (1.1618)  cardinality_error_4_unscaled: 5.0000 (5.0000)  loss_rel_4_unscaled: 1.0196 (1.0196)  time: 0.8550  data: 0.2290  max mem: 7378\n",
            "Exception ignored in: <bound method _MultiProcessingDataLoaderIter.__del__ of <torch.utils.data.dataloader._MultiProcessingDataLoaderIter object at 0x7f39326f9470>>\n",
            "Traceback (most recent call last):\n",
            "  File \"/usr/local/lib/python3.6/site-packages/torch/utils/data/dataloader.py\", line 1101, in __del__\n",
            "    self._shutdown_workers()\n",
            "  File \"/usr/local/lib/python3.6/site-packages/torch/utils/data/dataloader.py\", line 1075, in _shutdown_workers\n",
            "    w.join(timeout=_utils.MP_STATUS_CHECK_INTERVAL)\n",
            "  File \"/usr/local/lib/python3.6/multiprocessing/process.py\", line 124, in join\n",
            "    res = self._popen.wait(timeout)\n",
            "  File \"/usr/local/lib/python3.6/multiprocessing/popen_fork.py\", line 47, in wait\n",
            "    if not wait([self.sentinel], timeout):\n",
            "  File \"/usr/local/lib/python3.6/multiprocessing/connection.py\", line 911, in wait\n",
            "    ready = selector.select(timeout)\n",
            "  File \"/usr/local/lib/python3.6/selectors.py\", line 376, in select\n",
            "    fd_event_list = self._poll.poll(timeout)\n",
            "KeyboardInterrupt: \n",
            "Traceback (most recent call last):\n",
            "  File \"main.py\", line 251, in <module>\n",
            "    main(args)\n",
            "  File \"main.py\", line 200, in main\n",
            "    model, criterion, data_loader_train, optimizer, device, epoch, args.clip_max_norm)\n",
            "  File \"/content/drive/MyDrive/Scene Graph Generator/RelTR/engine.py\", line 62, in train_one_epoch\n",
            "    optimizer.step()\n",
            "  File \"/usr/local/lib/python3.6/site-packages/torch/optim/lr_scheduler.py\", line 67, in wrapper\n",
            "    return wrapped(*args, **kwargs)\n",
            "  File \"/usr/local/lib/python3.6/site-packages/torch/autograd/grad_mode.py\", line 15, in decorate_context\n",
            "    return func(*args, **kwargs)\n",
            "  File \"/usr/local/lib/python3.6/site-packages/torch/optim/adamw.py\", line 105, in step\n",
            "    exp_avg_sq.mul_(beta2).addcmul_(grad, grad, value=1 - beta2)\n",
            "KeyboardInterrupt\n"
          ]
        }
      ],
      "source": [
        "!python  main.py --dataset vg --img_folder data/vg/images/ --batch_size 2 --output_dir ckpt"
      ]
    }
  ],
  "metadata": {
    "accelerator": "GPU",
    "colab": {
      "provenance": []
    },
    "gpuClass": "standard",
    "kernelspec": {
      "display_name": "Python 3",
      "language": "python",
      "name": "python3"
    },
    "language_info": {
      "name": "python",
      "version": "3.11.2"
    },
    "vscode": {
      "interpreter": {
        "hash": "a32c9f515d0d8f2b431d5a8082c23ec25fa33b1c986b57a37f1a7a9429d2e5b6"
      }
    }
  },
  "nbformat": 4,
  "nbformat_minor": 0
}
